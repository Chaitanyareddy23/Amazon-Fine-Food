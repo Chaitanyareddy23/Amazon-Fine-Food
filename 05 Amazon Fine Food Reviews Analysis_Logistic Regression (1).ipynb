{
 "cells": [
  {
   "cell_type": "markdown",
   "metadata": {},
   "source": [
    "# Amazon Fine Food Reviews Analysis\n",
    "\n",
    "\n",
    "Data Source: https://www.kaggle.com/snap/amazon-fine-food-reviews <br>\n",
    "\n",
    "EDA: https://nycdatascience.com/blog/student-works/amazon-fine-foods-visualization/\n",
    "\n",
    "\n",
    "The Amazon Fine Food Reviews dataset consists of reviews of fine foods from Amazon.<br>\n",
    "\n",
    "Number of reviews: 568,454<br>\n",
    "Number of users: 256,059<br>\n",
    "Number of products: 74,258<br>\n",
    "Timespan: Oct 1999 - Oct 2012<br>\n",
    "Number of Attributes/Columns in data: 10 \n",
    "\n",
    "Attribute Information:\n",
    "\n",
    "1. Id\n",
    "2. ProductId - unique identifier for the product\n",
    "3. UserId - unqiue identifier for the user\n",
    "4. ProfileName\n",
    "5. HelpfulnessNumerator - number of users who found the review helpful\n",
    "6. HelpfulnessDenominator - number of users who indicated whether they found the review helpful or not\n",
    "7. Score - rating between 1 and 5\n",
    "8. Time - timestamp for the review\n",
    "9. Summary - brief summary of the review\n",
    "10. Text - text of the review\n",
    "\n",
    "\n",
    "#### Objective:\n",
    "Given a review, determine whether the review is positive (rating of 4 or 5) or negative (rating of 1 or 2).\n",
    "\n",
    "<br>\n",
    "[Q] How to determine if a review is positive or negative?<br>\n",
    "<br> \n",
    "[Ans] We could use Score/Rating. A rating of 4 or 5 can be cosnidered as a positive review. A rating of 1 or 2 can be considered as negative one. A review of rating 3 is considered nuetral and such reviews are ignored from our analysis. This is an approximate and proxy way of determining the polarity (positivity/negativity) of a review.\n",
    "\n",
    "\n"
   ]
  },
  {
   "cell_type": "markdown",
   "metadata": {},
   "source": [
    "# [1]. Reading Data"
   ]
  },
  {
   "cell_type": "markdown",
   "metadata": {},
   "source": [
    "## [1.1] Loading the data\n",
    "\n",
    "The dataset is available in two forms\n",
    "1. .csv file\n",
    "2. SQLite Database\n",
    "\n",
    "In order to load the data, We have used the SQLITE dataset as it is easier to query the data and visualise the data efficiently.\n",
    "<br> \n",
    "\n",
    "Here as we only want to get the global sentiment of the recommendations (positive or negative), we will purposefully ignore all Scores equal to 3. If the score is above 3, then the recommendation wil be set to \"positive\". Otherwise, it will be set to \"negative\"."
   ]
  },
  {
   "cell_type": "code",
   "execution_count": 1,
   "metadata": {},
   "outputs": [],
   "source": [
    "%matplotlib inline\n",
    "import warnings\n",
    "warnings.filterwarnings(\"ignore\")\n",
    "\n",
    "\n",
    "import sqlite3\n",
    "import pandas as pd\n",
    "import numpy as np\n",
    "import nltk\n",
    "import string\n",
    "import matplotlib.pyplot as plt\n",
    "import seaborn as sns\n",
    "from sklearn.feature_extraction.text import TfidfTransformer\n",
    "from sklearn.feature_extraction.text import TfidfVectorizer\n",
    "\n",
    "from sklearn.feature_extraction.text import CountVectorizer\n",
    "from sklearn.metrics import confusion_matrix\n",
    "from sklearn import metrics\n",
    "from sklearn.metrics import roc_curve, auc\n",
    "from nltk.stem.porter import PorterStemmer\n",
    "\n",
    "import re\n",
    "import string\n",
    "from nltk.corpus import stopwords\n",
    "from nltk.stem import PorterStemmer\n",
    "from nltk.stem.wordnet import WordNetLemmatizer\n",
    "\n",
    "from gensim.models import Word2Vec\n",
    "from gensim.models import KeyedVectors\n",
    "import pickle\n",
    "\n",
    "from tqdm import tqdm\n",
    "import os"
   ]
  },
  {
   "cell_type": "code",
   "execution_count": 2,
   "metadata": {},
   "outputs": [
    {
     "name": "stdout",
     "output_type": "stream",
     "text": [
      "Number of data points in our data (525814, 10)\n"
     ]
    },
    {
     "data": {
      "text/html": [
       "<div>\n",
       "<style scoped>\n",
       "    .dataframe tbody tr th:only-of-type {\n",
       "        vertical-align: middle;\n",
       "    }\n",
       "\n",
       "    .dataframe tbody tr th {\n",
       "        vertical-align: top;\n",
       "    }\n",
       "\n",
       "    .dataframe thead th {\n",
       "        text-align: right;\n",
       "    }\n",
       "</style>\n",
       "<table border=\"1\" class=\"dataframe\">\n",
       "  <thead>\n",
       "    <tr style=\"text-align: right;\">\n",
       "      <th></th>\n",
       "      <th>Id</th>\n",
       "      <th>ProductId</th>\n",
       "      <th>UserId</th>\n",
       "      <th>ProfileName</th>\n",
       "      <th>HelpfulnessNumerator</th>\n",
       "      <th>HelpfulnessDenominator</th>\n",
       "      <th>Score</th>\n",
       "      <th>Time</th>\n",
       "      <th>Summary</th>\n",
       "      <th>Text</th>\n",
       "    </tr>\n",
       "  </thead>\n",
       "  <tbody>\n",
       "    <tr>\n",
       "      <th>0</th>\n",
       "      <td>1</td>\n",
       "      <td>B001E4KFG0</td>\n",
       "      <td>A3SGXH7AUHU8GW</td>\n",
       "      <td>delmartian</td>\n",
       "      <td>1</td>\n",
       "      <td>1</td>\n",
       "      <td>1</td>\n",
       "      <td>1303862400</td>\n",
       "      <td>Good Quality Dog Food</td>\n",
       "      <td>I have bought several of the Vitality canned d...</td>\n",
       "    </tr>\n",
       "    <tr>\n",
       "      <th>1</th>\n",
       "      <td>2</td>\n",
       "      <td>B00813GRG4</td>\n",
       "      <td>A1D87F6ZCVE5NK</td>\n",
       "      <td>dll pa</td>\n",
       "      <td>0</td>\n",
       "      <td>0</td>\n",
       "      <td>0</td>\n",
       "      <td>1346976000</td>\n",
       "      <td>Not as Advertised</td>\n",
       "      <td>Product arrived labeled as Jumbo Salted Peanut...</td>\n",
       "    </tr>\n",
       "    <tr>\n",
       "      <th>2</th>\n",
       "      <td>3</td>\n",
       "      <td>B000LQOCH0</td>\n",
       "      <td>ABXLMWJIXXAIN</td>\n",
       "      <td>Natalia Corres \"Natalia Corres\"</td>\n",
       "      <td>1</td>\n",
       "      <td>1</td>\n",
       "      <td>1</td>\n",
       "      <td>1219017600</td>\n",
       "      <td>\"Delight\" says it all</td>\n",
       "      <td>This is a confection that has been around a fe...</td>\n",
       "    </tr>\n",
       "  </tbody>\n",
       "</table>\n",
       "</div>"
      ],
      "text/plain": [
       "   Id   ProductId          UserId                      ProfileName  \\\n",
       "0   1  B001E4KFG0  A3SGXH7AUHU8GW                       delmartian   \n",
       "1   2  B00813GRG4  A1D87F6ZCVE5NK                           dll pa   \n",
       "2   3  B000LQOCH0   ABXLMWJIXXAIN  Natalia Corres \"Natalia Corres\"   \n",
       "\n",
       "   HelpfulnessNumerator  HelpfulnessDenominator  Score        Time  \\\n",
       "0                     1                       1      1  1303862400   \n",
       "1                     0                       0      0  1346976000   \n",
       "2                     1                       1      1  1219017600   \n",
       "\n",
       "                 Summary                                               Text  \n",
       "0  Good Quality Dog Food  I have bought several of the Vitality canned d...  \n",
       "1      Not as Advertised  Product arrived labeled as Jumbo Salted Peanut...  \n",
       "2  \"Delight\" says it all  This is a confection that has been around a fe...  "
      ]
     },
     "execution_count": 2,
     "metadata": {},
     "output_type": "execute_result"
    }
   ],
   "source": [
    "# using SQLite Table to read data.\n",
    "con = sqlite3.connect('reviews.sqlite') \n",
    "\n",
    "# filtering only positive and negative reviews i.e. \n",
    "# not taking into consideration those reviews with Score=3\n",
    "# SELECT * FROM Reviews WHERE Score != 3 LIMIT 500000, will give top 500000 data points\n",
    "# you can change the number to any other number based on your computing power\n",
    "\n",
    "# filtered_data = pd.read_sql_query(\"\"\" SELECT * FROM Reviews WHERE Score != 3 LIMIT 500000\"\"\", con) \n",
    "# for tsne assignment you can take 5k data points\n",
    "\n",
    "filtered_data = pd.read_sql_query(\"\"\" SELECT * FROM Reviews WHERE Score != 3\"\"\", con) \n",
    "\n",
    "# Give reviews with Score>3 a positive rating(1), and reviews with a score<3 a negative rating(0).\n",
    "def partition(x):\n",
    "    if x < 3:\n",
    "        return 0\n",
    "    return 1\n",
    "\n",
    "#changing reviews with score less than 3 to be positive and vice-versa\n",
    "actualScore = filtered_data['Score']\n",
    "positiveNegative = actualScore.map(partition) \n",
    "filtered_data['Score'] = positiveNegative\n",
    "print(\"Number of data points in our data\", filtered_data.shape)\n",
    "filtered_data.head(3)"
   ]
  },
  {
   "cell_type": "code",
   "execution_count": 3,
   "metadata": {},
   "outputs": [],
   "source": [
    "display = pd.read_sql_query(\"\"\"\n",
    "SELECT UserId, ProductId, ProfileName, Time, Score, Text, COUNT(*)\n",
    "FROM Reviews\n",
    "GROUP BY UserId\n",
    "HAVING COUNT(*)>1\n",
    "\"\"\", con)"
   ]
  },
  {
   "cell_type": "code",
   "execution_count": 5,
   "metadata": {
    "scrolled": true
   },
   "outputs": [
    {
     "name": "stdout",
     "output_type": "stream",
     "text": [
      "(80668, 7)\n"
     ]
    },
    {
     "data": {
      "text/html": [
       "<div>\n",
       "<style scoped>\n",
       "    .dataframe tbody tr th:only-of-type {\n",
       "        vertical-align: middle;\n",
       "    }\n",
       "\n",
       "    .dataframe tbody tr th {\n",
       "        vertical-align: top;\n",
       "    }\n",
       "\n",
       "    .dataframe thead th {\n",
       "        text-align: right;\n",
       "    }\n",
       "</style>\n",
       "<table border=\"1\" class=\"dataframe\">\n",
       "  <thead>\n",
       "    <tr style=\"text-align: right;\">\n",
       "      <th></th>\n",
       "      <th>UserId</th>\n",
       "      <th>ProductId</th>\n",
       "      <th>ProfileName</th>\n",
       "      <th>Time</th>\n",
       "      <th>Score</th>\n",
       "      <th>Text</th>\n",
       "      <th>COUNT(*)</th>\n",
       "    </tr>\n",
       "  </thead>\n",
       "  <tbody>\n",
       "    <tr>\n",
       "      <th>0</th>\n",
       "      <td>#oc-R115TNMSPFT9I7</td>\n",
       "      <td>B007Y59HVM</td>\n",
       "      <td>Breyton</td>\n",
       "      <td>1331510400</td>\n",
       "      <td>2</td>\n",
       "      <td>Overall its just OK when considering the price...</td>\n",
       "      <td>2</td>\n",
       "    </tr>\n",
       "    <tr>\n",
       "      <th>1</th>\n",
       "      <td>#oc-R11D9D7SHXIJB9</td>\n",
       "      <td>B005HG9ET0</td>\n",
       "      <td>Louis E. Emory \"hoppy\"</td>\n",
       "      <td>1342396800</td>\n",
       "      <td>5</td>\n",
       "      <td>My wife has recurring extreme muscle spasms, u...</td>\n",
       "      <td>3</td>\n",
       "    </tr>\n",
       "    <tr>\n",
       "      <th>2</th>\n",
       "      <td>#oc-R11DNU2NBKQ23Z</td>\n",
       "      <td>B007Y59HVM</td>\n",
       "      <td>Kim Cieszykowski</td>\n",
       "      <td>1348531200</td>\n",
       "      <td>1</td>\n",
       "      <td>This coffee is horrible and unfortunately not ...</td>\n",
       "      <td>2</td>\n",
       "    </tr>\n",
       "    <tr>\n",
       "      <th>3</th>\n",
       "      <td>#oc-R11O5J5ZVQE25C</td>\n",
       "      <td>B005HG9ET0</td>\n",
       "      <td>Penguin Chick</td>\n",
       "      <td>1346889600</td>\n",
       "      <td>5</td>\n",
       "      <td>This will be the bottle that you grab from the...</td>\n",
       "      <td>3</td>\n",
       "    </tr>\n",
       "    <tr>\n",
       "      <th>4</th>\n",
       "      <td>#oc-R12KPBODL2B5ZD</td>\n",
       "      <td>B007OSBE1U</td>\n",
       "      <td>Christopher P. Presta</td>\n",
       "      <td>1348617600</td>\n",
       "      <td>1</td>\n",
       "      <td>I didnt like this coffee. Instead of telling y...</td>\n",
       "      <td>2</td>\n",
       "    </tr>\n",
       "  </tbody>\n",
       "</table>\n",
       "</div>"
      ],
      "text/plain": [
       "               UserId   ProductId             ProfileName        Time  Score  \\\n",
       "0  #oc-R115TNMSPFT9I7  B007Y59HVM                 Breyton  1331510400      2   \n",
       "1  #oc-R11D9D7SHXIJB9  B005HG9ET0  Louis E. Emory \"hoppy\"  1342396800      5   \n",
       "2  #oc-R11DNU2NBKQ23Z  B007Y59HVM        Kim Cieszykowski  1348531200      1   \n",
       "3  #oc-R11O5J5ZVQE25C  B005HG9ET0           Penguin Chick  1346889600      5   \n",
       "4  #oc-R12KPBODL2B5ZD  B007OSBE1U   Christopher P. Presta  1348617600      1   \n",
       "\n",
       "                                                Text  COUNT(*)  \n",
       "0  Overall its just OK when considering the price...         2  \n",
       "1  My wife has recurring extreme muscle spasms, u...         3  \n",
       "2  This coffee is horrible and unfortunately not ...         2  \n",
       "3  This will be the bottle that you grab from the...         3  \n",
       "4  I didnt like this coffee. Instead of telling y...         2  "
      ]
     },
     "execution_count": 5,
     "metadata": {},
     "output_type": "execute_result"
    }
   ],
   "source": [
    "print(display.shape)\n",
    "display.head()"
   ]
  },
  {
   "cell_type": "code",
   "execution_count": 6,
   "metadata": {},
   "outputs": [
    {
     "data": {
      "text/html": [
       "<div>\n",
       "<style scoped>\n",
       "    .dataframe tbody tr th:only-of-type {\n",
       "        vertical-align: middle;\n",
       "    }\n",
       "\n",
       "    .dataframe tbody tr th {\n",
       "        vertical-align: top;\n",
       "    }\n",
       "\n",
       "    .dataframe thead th {\n",
       "        text-align: right;\n",
       "    }\n",
       "</style>\n",
       "<table border=\"1\" class=\"dataframe\">\n",
       "  <thead>\n",
       "    <tr style=\"text-align: right;\">\n",
       "      <th></th>\n",
       "      <th>UserId</th>\n",
       "      <th>ProductId</th>\n",
       "      <th>ProfileName</th>\n",
       "      <th>Time</th>\n",
       "      <th>Score</th>\n",
       "      <th>Text</th>\n",
       "      <th>COUNT(*)</th>\n",
       "    </tr>\n",
       "  </thead>\n",
       "  <tbody>\n",
       "    <tr>\n",
       "      <th>80638</th>\n",
       "      <td>AZY10LLTJ71NX</td>\n",
       "      <td>B006P7E5ZI</td>\n",
       "      <td>undertheshrine \"undertheshrine\"</td>\n",
       "      <td>1334707200</td>\n",
       "      <td>5</td>\n",
       "      <td>I was recommended to try green tea extract to ...</td>\n",
       "      <td>5</td>\n",
       "    </tr>\n",
       "  </tbody>\n",
       "</table>\n",
       "</div>"
      ],
      "text/plain": [
       "              UserId   ProductId                      ProfileName        Time  \\\n",
       "80638  AZY10LLTJ71NX  B006P7E5ZI  undertheshrine \"undertheshrine\"  1334707200   \n",
       "\n",
       "       Score                                               Text  COUNT(*)  \n",
       "80638      5  I was recommended to try green tea extract to ...         5  "
      ]
     },
     "execution_count": 6,
     "metadata": {},
     "output_type": "execute_result"
    }
   ],
   "source": [
    "display[display['UserId']=='AZY10LLTJ71NX']"
   ]
  },
  {
   "cell_type": "code",
   "execution_count": 7,
   "metadata": {},
   "outputs": [
    {
     "data": {
      "text/plain": [
       "393063"
      ]
     },
     "execution_count": 7,
     "metadata": {},
     "output_type": "execute_result"
    }
   ],
   "source": [
    "display['COUNT(*)'].sum()"
   ]
  },
  {
   "cell_type": "markdown",
   "metadata": {},
   "source": [
    "#  [2] Exploratory Data Analysis"
   ]
  },
  {
   "cell_type": "markdown",
   "metadata": {},
   "source": [
    "## [2.1] Data Cleaning: Deduplication\n",
    "\n",
    "It is observed (as shown in the table below) that the reviews data had many duplicate entries. Hence it was necessary to remove duplicates in order to get unbiased results for the analysis of the data.  Following is an example:"
   ]
  },
  {
   "cell_type": "code",
   "execution_count": 8,
   "metadata": {
    "scrolled": false
   },
   "outputs": [
    {
     "data": {
      "text/html": [
       "<div>\n",
       "<style scoped>\n",
       "    .dataframe tbody tr th:only-of-type {\n",
       "        vertical-align: middle;\n",
       "    }\n",
       "\n",
       "    .dataframe tbody tr th {\n",
       "        vertical-align: top;\n",
       "    }\n",
       "\n",
       "    .dataframe thead th {\n",
       "        text-align: right;\n",
       "    }\n",
       "</style>\n",
       "<table border=\"1\" class=\"dataframe\">\n",
       "  <thead>\n",
       "    <tr style=\"text-align: right;\">\n",
       "      <th></th>\n",
       "      <th>Id</th>\n",
       "      <th>ProductId</th>\n",
       "      <th>UserId</th>\n",
       "      <th>ProfileName</th>\n",
       "      <th>HelpfulnessNumerator</th>\n",
       "      <th>HelpfulnessDenominator</th>\n",
       "      <th>Score</th>\n",
       "      <th>Time</th>\n",
       "      <th>Summary</th>\n",
       "      <th>Text</th>\n",
       "    </tr>\n",
       "  </thead>\n",
       "  <tbody>\n",
       "    <tr>\n",
       "      <th>0</th>\n",
       "      <td>78445</td>\n",
       "      <td>B000HDL1RQ</td>\n",
       "      <td>AR5J8UI46CURR</td>\n",
       "      <td>Geetha Krishnan</td>\n",
       "      <td>2</td>\n",
       "      <td>2</td>\n",
       "      <td>5</td>\n",
       "      <td>1199577600</td>\n",
       "      <td>LOACKER QUADRATINI VANILLA WAFERS</td>\n",
       "      <td>DELICIOUS WAFERS. I FIND THAT EUROPEAN WAFERS ...</td>\n",
       "    </tr>\n",
       "    <tr>\n",
       "      <th>1</th>\n",
       "      <td>138317</td>\n",
       "      <td>B000HDOPYC</td>\n",
       "      <td>AR5J8UI46CURR</td>\n",
       "      <td>Geetha Krishnan</td>\n",
       "      <td>2</td>\n",
       "      <td>2</td>\n",
       "      <td>5</td>\n",
       "      <td>1199577600</td>\n",
       "      <td>LOACKER QUADRATINI VANILLA WAFERS</td>\n",
       "      <td>DELICIOUS WAFERS. I FIND THAT EUROPEAN WAFERS ...</td>\n",
       "    </tr>\n",
       "    <tr>\n",
       "      <th>2</th>\n",
       "      <td>138277</td>\n",
       "      <td>B000HDOPYM</td>\n",
       "      <td>AR5J8UI46CURR</td>\n",
       "      <td>Geetha Krishnan</td>\n",
       "      <td>2</td>\n",
       "      <td>2</td>\n",
       "      <td>5</td>\n",
       "      <td>1199577600</td>\n",
       "      <td>LOACKER QUADRATINI VANILLA WAFERS</td>\n",
       "      <td>DELICIOUS WAFERS. I FIND THAT EUROPEAN WAFERS ...</td>\n",
       "    </tr>\n",
       "    <tr>\n",
       "      <th>3</th>\n",
       "      <td>73791</td>\n",
       "      <td>B000HDOPZG</td>\n",
       "      <td>AR5J8UI46CURR</td>\n",
       "      <td>Geetha Krishnan</td>\n",
       "      <td>2</td>\n",
       "      <td>2</td>\n",
       "      <td>5</td>\n",
       "      <td>1199577600</td>\n",
       "      <td>LOACKER QUADRATINI VANILLA WAFERS</td>\n",
       "      <td>DELICIOUS WAFERS. I FIND THAT EUROPEAN WAFERS ...</td>\n",
       "    </tr>\n",
       "    <tr>\n",
       "      <th>4</th>\n",
       "      <td>155049</td>\n",
       "      <td>B000PAQ75C</td>\n",
       "      <td>AR5J8UI46CURR</td>\n",
       "      <td>Geetha Krishnan</td>\n",
       "      <td>2</td>\n",
       "      <td>2</td>\n",
       "      <td>5</td>\n",
       "      <td>1199577600</td>\n",
       "      <td>LOACKER QUADRATINI VANILLA WAFERS</td>\n",
       "      <td>DELICIOUS WAFERS. I FIND THAT EUROPEAN WAFERS ...</td>\n",
       "    </tr>\n",
       "  </tbody>\n",
       "</table>\n",
       "</div>"
      ],
      "text/plain": [
       "       Id   ProductId         UserId      ProfileName  HelpfulnessNumerator  \\\n",
       "0   78445  B000HDL1RQ  AR5J8UI46CURR  Geetha Krishnan                     2   \n",
       "1  138317  B000HDOPYC  AR5J8UI46CURR  Geetha Krishnan                     2   \n",
       "2  138277  B000HDOPYM  AR5J8UI46CURR  Geetha Krishnan                     2   \n",
       "3   73791  B000HDOPZG  AR5J8UI46CURR  Geetha Krishnan                     2   \n",
       "4  155049  B000PAQ75C  AR5J8UI46CURR  Geetha Krishnan                     2   \n",
       "\n",
       "   HelpfulnessDenominator  Score        Time  \\\n",
       "0                       2      5  1199577600   \n",
       "1                       2      5  1199577600   \n",
       "2                       2      5  1199577600   \n",
       "3                       2      5  1199577600   \n",
       "4                       2      5  1199577600   \n",
       "\n",
       "                             Summary  \\\n",
       "0  LOACKER QUADRATINI VANILLA WAFERS   \n",
       "1  LOACKER QUADRATINI VANILLA WAFERS   \n",
       "2  LOACKER QUADRATINI VANILLA WAFERS   \n",
       "3  LOACKER QUADRATINI VANILLA WAFERS   \n",
       "4  LOACKER QUADRATINI VANILLA WAFERS   \n",
       "\n",
       "                                                Text  \n",
       "0  DELICIOUS WAFERS. I FIND THAT EUROPEAN WAFERS ...  \n",
       "1  DELICIOUS WAFERS. I FIND THAT EUROPEAN WAFERS ...  \n",
       "2  DELICIOUS WAFERS. I FIND THAT EUROPEAN WAFERS ...  \n",
       "3  DELICIOUS WAFERS. I FIND THAT EUROPEAN WAFERS ...  \n",
       "4  DELICIOUS WAFERS. I FIND THAT EUROPEAN WAFERS ...  "
      ]
     },
     "execution_count": 8,
     "metadata": {},
     "output_type": "execute_result"
    }
   ],
   "source": [
    "display= pd.read_sql_query(\"\"\"\n",
    "SELECT *\n",
    "FROM Reviews\n",
    "WHERE Score != 3 AND UserId=\"AR5J8UI46CURR\"\n",
    "ORDER BY ProductID\n",
    "\"\"\", con)\n",
    "display.head()"
   ]
  },
  {
   "cell_type": "markdown",
   "metadata": {},
   "source": [
    "As it can be seen above that same user has multiple reviews with same values for HelpfulnessNumerator, HelpfulnessDenominator, Score, Time, Summary and Text and on doing analysis it was found that <br>\n",
    "<br> \n",
    "ProductId=B000HDOPZG was Loacker Quadratini Vanilla Wafer Cookies, 8.82-Ounce Packages (Pack of 8)<br>\n",
    "<br> \n",
    "ProductId=B000HDL1RQ was Loacker Quadratini Lemon Wafer Cookies, 8.82-Ounce Packages (Pack of 8) and so on<br>\n",
    "\n",
    "It was inferred after analysis that reviews with same parameters other than ProductId belonged to the same product just having different flavour or quantity. Hence in order to reduce redundancy it was decided to eliminate the rows having same parameters.<br>\n",
    "\n",
    "The method used for the same was that we first sort the data according to ProductId and then just keep the first similar product review and delelte the others. for eg. in the above just the review for ProductId=B000HDL1RQ remains. This method ensures that there is only one representative for each product and deduplication without sorting would lead to possibility of different representatives still existing for the same product."
   ]
  },
  {
   "cell_type": "code",
   "execution_count": 9,
   "metadata": {},
   "outputs": [],
   "source": [
    "#Sorting data according to ProductId in ascending order\n",
    "sorted_data=filtered_data.sort_values('ProductId', axis=0, ascending=True, inplace=False, kind='quicksort', na_position='last')"
   ]
  },
  {
   "cell_type": "code",
   "execution_count": 10,
   "metadata": {},
   "outputs": [
    {
     "data": {
      "text/plain": [
       "(364173, 10)"
      ]
     },
     "execution_count": 10,
     "metadata": {},
     "output_type": "execute_result"
    }
   ],
   "source": [
    "#Deduplication of entries\n",
    "final_data=sorted_data.drop_duplicates(subset={\"UserId\",\"ProfileName\",\"Time\",\"Text\"}, keep='first', inplace=False)\n",
    "final_data.shape"
   ]
  },
  {
   "cell_type": "code",
   "execution_count": 11,
   "metadata": {},
   "outputs": [
    {
     "data": {
      "text/plain": [
       "69.25890143662969"
      ]
     },
     "execution_count": 11,
     "metadata": {},
     "output_type": "execute_result"
    }
   ],
   "source": [
    "#Checking to see how much % of data still remains\n",
    "(final_data['Id'].size*1.0)/(filtered_data['Id'].size*1.0)*100"
   ]
  },
  {
   "cell_type": "markdown",
   "metadata": {},
   "source": [
    "<b>Observation:-</b> It was also seen that in two rows given below the value of HelpfulnessNumerator is greater than HelpfulnessDenominator which is not practically possible hence these two rows too are removed from calcualtions"
   ]
  },
  {
   "cell_type": "code",
   "execution_count": 12,
   "metadata": {},
   "outputs": [
    {
     "data": {
      "text/html": [
       "<div>\n",
       "<style scoped>\n",
       "    .dataframe tbody tr th:only-of-type {\n",
       "        vertical-align: middle;\n",
       "    }\n",
       "\n",
       "    .dataframe tbody tr th {\n",
       "        vertical-align: top;\n",
       "    }\n",
       "\n",
       "    .dataframe thead th {\n",
       "        text-align: right;\n",
       "    }\n",
       "</style>\n",
       "<table border=\"1\" class=\"dataframe\">\n",
       "  <thead>\n",
       "    <tr style=\"text-align: right;\">\n",
       "      <th></th>\n",
       "      <th>Id</th>\n",
       "      <th>ProductId</th>\n",
       "      <th>UserId</th>\n",
       "      <th>ProfileName</th>\n",
       "      <th>HelpfulnessNumerator</th>\n",
       "      <th>HelpfulnessDenominator</th>\n",
       "      <th>Score</th>\n",
       "      <th>Time</th>\n",
       "      <th>Summary</th>\n",
       "      <th>Text</th>\n",
       "    </tr>\n",
       "  </thead>\n",
       "  <tbody>\n",
       "    <tr>\n",
       "      <th>0</th>\n",
       "      <td>64422</td>\n",
       "      <td>B000MIDROQ</td>\n",
       "      <td>A161DK06JJMCYF</td>\n",
       "      <td>J. E. Stephens \"Jeanne\"</td>\n",
       "      <td>3</td>\n",
       "      <td>1</td>\n",
       "      <td>5</td>\n",
       "      <td>1224892800</td>\n",
       "      <td>Bought This for My Son at College</td>\n",
       "      <td>My son loves spaghetti so I didn't hesitate or...</td>\n",
       "    </tr>\n",
       "    <tr>\n",
       "      <th>1</th>\n",
       "      <td>44737</td>\n",
       "      <td>B001EQ55RW</td>\n",
       "      <td>A2V0I904FH7ABY</td>\n",
       "      <td>Ram</td>\n",
       "      <td>3</td>\n",
       "      <td>2</td>\n",
       "      <td>4</td>\n",
       "      <td>1212883200</td>\n",
       "      <td>Pure cocoa taste with crunchy almonds inside</td>\n",
       "      <td>It was almost a 'love at first bite' - the per...</td>\n",
       "    </tr>\n",
       "  </tbody>\n",
       "</table>\n",
       "</div>"
      ],
      "text/plain": [
       "      Id   ProductId          UserId              ProfileName  \\\n",
       "0  64422  B000MIDROQ  A161DK06JJMCYF  J. E. Stephens \"Jeanne\"   \n",
       "1  44737  B001EQ55RW  A2V0I904FH7ABY                      Ram   \n",
       "\n",
       "   HelpfulnessNumerator  HelpfulnessDenominator  Score        Time  \\\n",
       "0                     3                       1      5  1224892800   \n",
       "1                     3                       2      4  1212883200   \n",
       "\n",
       "                                        Summary  \\\n",
       "0             Bought This for My Son at College   \n",
       "1  Pure cocoa taste with crunchy almonds inside   \n",
       "\n",
       "                                                Text  \n",
       "0  My son loves spaghetti so I didn't hesitate or...  \n",
       "1  It was almost a 'love at first bite' - the per...  "
      ]
     },
     "execution_count": 12,
     "metadata": {},
     "output_type": "execute_result"
    }
   ],
   "source": [
    "display= pd.read_sql_query(\"\"\"\n",
    "SELECT *\n",
    "FROM Reviews\n",
    "WHERE Score != 3 AND Id=44737 OR Id=64422\n",
    "ORDER BY ProductID\n",
    "\"\"\", con)\n",
    "\n",
    "display.head()"
   ]
  },
  {
   "cell_type": "code",
   "execution_count": 13,
   "metadata": {},
   "outputs": [],
   "source": [
    "final_data=final_data[final_data.HelpfulnessNumerator<=final_data.HelpfulnessDenominator]"
   ]
  },
  {
   "cell_type": "code",
   "execution_count": 14,
   "metadata": {},
   "outputs": [
    {
     "name": "stdout",
     "output_type": "stream",
     "text": [
      "(364171, 10)\n"
     ]
    },
    {
     "data": {
      "text/plain": [
       "1    307061\n",
       "0     57110\n",
       "Name: Score, dtype: int64"
      ]
     },
     "execution_count": 14,
     "metadata": {},
     "output_type": "execute_result"
    }
   ],
   "source": [
    "#Before starting the next phase of preprocessing lets see the number of entries left\n",
    "print(final_data.shape)\n",
    "\n",
    "#How many positive and negative reviews are present in our dataset?\n",
    "final_data['Score'].value_counts()"
   ]
  },
  {
   "cell_type": "markdown",
   "metadata": {},
   "source": [
    "#  [3] Preprocessing"
   ]
  },
  {
   "cell_type": "markdown",
   "metadata": {},
   "source": [
    "## [3.1].  Preprocessing Review Text\n",
    "\n",
    "Now that we have finished deduplication our data requires some preprocessing before we go on further with analysis and making the prediction model.\n",
    "\n",
    "Hence in the Preprocessing phase we do the following in the order below:-\n",
    "\n",
    "1. Begin by removing the html tags\n",
    "2. Remove any punctuations or limited set of special characters like , or . or # etc.\n",
    "3. Check if the word is made up of english letters and is not alpha-numeric\n",
    "4. Check to see if the length of the word is greater than 2 (as it was researched that there is no adjective in 2-letters)\n",
    "5. Convert the word to lowercase\n",
    "6. Remove Stopwords\n",
    "7. Finally Snowball Stemming the word (it was obsereved to be better than Porter Stemming)<br>\n",
    "\n",
    "After which we collect the words used to describe positive and negative reviews"
   ]
  },
  {
   "cell_type": "code",
   "execution_count": 15,
   "metadata": {},
   "outputs": [
    {
     "name": "stdout",
     "output_type": "stream",
     "text": [
      "6\n",
      "I set aside at least an hour each day to read to my son (3 y/o). At this point, I consider myself a connoisseur of children's books and this is one of the best. Santa Clause put this under the tree. Since then, we've read it perpetually and he loves it.<br /><br />First, this book taught him the months of the year.<br /><br />Second, it's a pleasure to read. Well suited to 1.5 y/o old to 4+.<br /><br />Very few children's books are worth owning. Most should be borrowed from the library. This book, however, deserves a permanent spot on your shelf. Sendak's best.\n"
     ]
    }
   ],
   "source": [
    "import re\n",
    "i=0;\n",
    "for sent in final_data['Text'].values:\n",
    "    if (len(re.findall('<.*?>', sent))):\n",
    "        print(i)\n",
    "        print(sent)\n",
    "        break\n",
    "    i += 1"
   ]
  },
  {
   "cell_type": "code",
   "execution_count": 16,
   "metadata": {},
   "outputs": [
    {
     "name": "stderr",
     "output_type": "stream",
     "text": [
      "[nltk_data] Downloading package stopwords to\n",
      "[nltk_data]     /home/chaitanyareddypatlolla/nltk_data...\n",
      "[nltk_data]   Package stopwords is already up-to-date!\n"
     ]
    }
   ],
   "source": [
    "import nltk\n",
    "from nltk.corpus import stopwords\n",
    "nltk.download('stopwords')\n",
    "\n",
    "stopwords = stopwords.words('english')\n",
    "stop = set(stopwords) \n",
    "sno = nltk.stem.SnowballStemmer('english')\n",
    "\n",
    "def cleanhtml(sentence):\n",
    "    cleanr = re.compile('<.*?>')\n",
    "    cleantext = re.sub(cleanr, ' ', sentence)\n",
    "    return cleantext\n",
    "def cleanpunc(sentence):\n",
    "    cleaned = re.sub(r'[?|!|\\'|\"|#]',r'',sentence)\n",
    "    cleaned = re.sub(r'[.|,|)|(|\\|/]',r' ',cleaned)\n",
    "    return  cleaned\n",
    "\n",
    "if not os.path.isfile('final_data.sqlite'):\n",
    "    i=0\n",
    "    str1=' '\n",
    "    final_string=[]\n",
    "    all_positive_words=[]\n",
    "    all_negative_words=[]\n",
    "    s=''\n",
    "    for sent in tqdm(final_data['Text'].values):\n",
    "        filtered_sentence=[]\n",
    "        sent=cleanhtml(sent)\n",
    "        for w in sent.split():\n",
    "            for cleaned_words in cleanpunc(w).split():\n",
    "                if((cleaned_words.isalpha()) & (len(cleaned_words)>2)):    \n",
    "                    if(cleaned_words.lower() not in stop):\n",
    "                        s=(sno.stem(cleaned_words.lower())).encode('utf8')\n",
    "                        filtered_sentence.append(s)\n",
    "                        if (final_data['Score'].values)[i] == 'positive': \n",
    "                            all_positive_words.append(s)\n",
    "                        if(final_data['Score'].values)[i] == 'negative':\n",
    "                            all_negative_words.append(s)\n",
    "                    else:\n",
    "                        continue\n",
    "                else:\n",
    "                    continue \n",
    "        str1 = b\" \".join(filtered_sentence)\n",
    "\n",
    "        final_string.append(str1)\n",
    "        i+=1\n",
    "\n",
    "    final_data['CleanedText']=final_string\n",
    "    final_data['CleanedText']=final_data['CleanedText'].str.decode(\"utf-8\")\n",
    "    conn = sqlite3.connect('final_data.sqlite')\n",
    "    c=conn.cursor()\n",
    "    conn.text_factory = str\n",
    "    final_data.to_sql('Reviews', conn,  schema=None, if_exists='replace', \\\n",
    "                 index=True, index_label=None, chunksize=None, dtype=None)\n",
    "    conn.close()\n",
    "    \n",
    "    \n",
    "    with open('positive_words.pkl', 'wb') as f:\n",
    "        pickle.dump(all_positive_words, f)\n",
    "    with open('negitive_words.pkl', 'wb') as f:\n",
    "        pickle.dump(all_negative_words, f)"
   ]
  },
  {
   "cell_type": "code",
   "execution_count": 17,
   "metadata": {},
   "outputs": [],
   "source": [
    "if os.path.isfile('final_data.sqlite'):\n",
    "    conn = sqlite3.connect('final_data.sqlite')\n",
    "    final = pd.read_sql_query(\"\"\" SELECT * FROM Reviews WHERE Score != 3 \"\"\", conn)\n",
    "    conn.close()\n",
    "else:\n",
    "    print(\"Please the above cell\")"
   ]
  },
  {
   "cell_type": "code",
   "execution_count": 18,
   "metadata": {},
   "outputs": [
    {
     "data": {
      "text/plain": [
       "(364171, 12)"
      ]
     },
     "execution_count": 18,
     "metadata": {},
     "output_type": "execute_result"
    }
   ],
   "source": [
    "final.shape"
   ]
  },
  {
   "cell_type": "markdown",
   "metadata": {},
   "source": [
    "# Sorting & Splitting the data:"
   ]
  },
  {
   "cell_type": "code",
   "execution_count": 19,
   "metadata": {},
   "outputs": [],
   "source": [
    "final = final.sort_values('Time') #Sorting based on time\n",
    "\n",
    "\n",
    "final= final[:100000] #After sorting data based on time, we're taking a sample of 100k points"
   ]
  },
  {
   "cell_type": "code",
   "execution_count": 20,
   "metadata": {},
   "outputs": [
    {
     "data": {
      "text/plain": [
       "1    87729\n",
       "0    12271\n",
       "Name: Score, dtype: int64"
      ]
     },
     "execution_count": 20,
     "metadata": {},
     "output_type": "execute_result"
    }
   ],
   "source": [
    "final['Score'].value_counts()"
   ]
  },
  {
   "cell_type": "code",
   "execution_count": 21,
   "metadata": {},
   "outputs": [
    {
     "data": {
      "text/plain": [
       "((49000, 12), (30000, 12), (21000, 12))"
      ]
     },
     "execution_count": 21,
     "metadata": {},
     "output_type": "execute_result"
    }
   ],
   "source": [
    "from sklearn import model_selection\n",
    "from sklearn.model_selection import train_test_split\n",
    "\n",
    "final_points= final['CleanedText']\n",
    "labels = final['Score']\n",
    "\n",
    "X_1, X_test, y_1, y_test = model_selection.train_test_split(final, labels, test_size=0.3, random_state=0)\n",
    "\n",
    "X_tr, X_cv, y_tr, y_cv = model_selection.train_test_split(X_1, y_1, test_size=0.3)\n",
    "\n",
    "\n",
    "X_tr.shape, X_test.shape, X_cv.shape"
   ]
  },
  {
   "cell_type": "markdown",
   "metadata": {},
   "source": [
    "# [4] Featurization"
   ]
  },
  {
   "cell_type": "markdown",
   "metadata": {},
   "source": [
    "## [4.1] BAG OF WORDS"
   ]
  },
  {
   "cell_type": "code",
   "execution_count": 22,
   "metadata": {},
   "outputs": [],
   "source": [
    "#BoW\n",
    "count_vect = CountVectorizer()\n",
    "X_tr_bow = count_vect.fit_transform(X_tr['CleanedText'].values)\n",
    "X_cv_bow = count_vect.transform(X_cv['CleanedText'].values)\n",
    "X_test_bow = count_vect.transform(X_test['CleanedText'].values)"
   ]
  },
  {
   "cell_type": "code",
   "execution_count": 23,
   "metadata": {},
   "outputs": [
    {
     "data": {
      "text/plain": [
       "((49000, 26617), (21000, 26617), (30000, 26617))"
      ]
     },
     "execution_count": 23,
     "metadata": {},
     "output_type": "execute_result"
    }
   ],
   "source": [
    "X_tr_bow.shape, X_cv_bow.shape,X_test_bow.shape"
   ]
  },
  {
   "cell_type": "markdown",
   "metadata": {},
   "source": [
    "## [4.2] Bi-Grams and n-Grams."
   ]
  },
  {
   "cell_type": "code",
   "execution_count": 26,
   "metadata": {},
   "outputs": [
    {
     "name": "stdout",
     "output_type": "stream",
     "text": [
      "the type of count vectorizer  <class 'scipy.sparse.csr.csr_matrix'>\n",
      "the shape of out text BOW vectorizer  (4986, 3144)\n",
      "the number of unique words including both unigrams and bigrams  3144\n"
     ]
    }
   ],
   "source": [
    "#bi-gram, tri-gram and n-gram\n",
    "\n",
    "#removing stop words like \"not\" should be avoided before building n-grams\n",
    "# count_vect = CountVectorizer(ngram_range=(1,2))\n",
    "# please do read the CountVectorizer documentation http://scikit-learn.org/stable/modules/generated/sklearn.feature_extraction.text.CountVectorizer.html\n",
    "\n",
    "# you can choose these numebrs min_df=10, max_features=5000, of your choice\n",
    "count_vect = CountVectorizer(ngram_range=(1,2), min_df=10, max_features=5000)\n",
    "final_bigram_counts = count_vect.fit_transform(preprocessed_reviews)\n",
    "print(\"the type of count vectorizer \",type(final_bigram_counts))\n",
    "print(\"the shape of out text BOW vectorizer \",final_bigram_counts.get_shape())\n",
    "print(\"the number of unique words including both unigrams and bigrams \", final_bigram_counts.get_shape()[1])"
   ]
  },
  {
   "cell_type": "markdown",
   "metadata": {},
   "source": [
    "## [4.3] TF-IDF"
   ]
  },
  {
   "cell_type": "code",
   "execution_count": 98,
   "metadata": {},
   "outputs": [],
   "source": [
    "tf_idf_vect = TfidfVectorizer(min_df= 10)\n",
    "X_tr_tf_idf = tf_idf_vect.fit_transform(X_tr['CleanedText'].values)\n",
    "X_cv_tf_idf = tf_idf_vect.transform(X_cv['CleanedText'].values)\n",
    "X_test_tf_idf = tf_idf_vect.transform(X_test['CleanedText'].values)"
   ]
  },
  {
   "cell_type": "markdown",
   "metadata": {},
   "source": [
    "## [4.4] Word2Vec"
   ]
  },
  {
   "cell_type": "code",
   "execution_count": 123,
   "metadata": {},
   "outputs": [],
   "source": [
    "# Train your own Word2Vec model using your own text corpus\n",
    "i=0\n",
    "train_sent_list=[]\n",
    "for sent in X_tr['CleanedText'].values:\n",
    "    train_sent_list.append(sent.split())\n",
    "    \n",
    "i=0\n",
    "cv_sent_list=[]\n",
    "for sent in X_cv['CleanedText'].values:\n",
    "    cv_sent_list.append(sent.split())   \n",
    "\n",
    "\n",
    "i=0\n",
    "test_sent_list=[]\n",
    "for sent in X_test['CleanedText'].values:\n",
    "    test_sent_list.append(sent.split())"
   ]
  },
  {
   "cell_type": "code",
   "execution_count": 124,
   "metadata": {},
   "outputs": [],
   "source": [
    "from gensim.models import Word2Vec\n",
    "\n",
    "train_w2v_model= Word2Vec(train_sent_list,min_count=5,size=50, workers=4)\n",
    "train_w2v_words = list(train_w2v_model.wv.vocab)\n",
    "\n",
    "cv_w2v_model= Word2Vec(cv_sent_list,min_count=5,size=50, workers=4)\n",
    "cv_w2v_words = list(cv_w2v_model.wv.vocab)\n",
    "\n",
    "test_w2v_model= Word2Vec(test_sent_list,min_count=5,size=50, workers=4)\n",
    "test_w2v_words = list(test_w2v_model.wv.vocab)"
   ]
  },
  {
   "cell_type": "markdown",
   "metadata": {},
   "source": [
    "## [4.4.1] Converting text into vectors using Avg W2V, TFIDF-W2V"
   ]
  },
  {
   "cell_type": "markdown",
   "metadata": {},
   "source": [
    "#### [4.4.1.1] Avg W2v"
   ]
  },
  {
   "cell_type": "code",
   "execution_count": 125,
   "metadata": {},
   "outputs": [
    {
     "name": "stderr",
     "output_type": "stream",
     "text": [
      "100%|██████████| 49000/49000 [05:20<00:00, 153.04it/s]"
     ]
    },
    {
     "name": "stdout",
     "output_type": "stream",
     "text": [
      "49000\n",
      "50\n"
     ]
    },
    {
     "name": "stderr",
     "output_type": "stream",
     "text": [
      "\n"
     ]
    }
   ],
   "source": [
    "#Training data for average w2v\n",
    "\n",
    "train_sent_vectors = []\n",
    "for sent in tqdm(train_sent_list):\n",
    "    train_sent_vec = np.zeros(50)\n",
    "    cnt_words =0\n",
    "    for word in sent:\n",
    "        if word in train_w2v_words:\n",
    "            vec = train_w2v_model.wv[word]\n",
    "            train_sent_vec += vec\n",
    "            cnt_words += 1\n",
    "    if cnt_words != 0:\n",
    "        train_sent_vec /= cnt_words\n",
    "    train_sent_vectors.append(train_sent_vec)\n",
    "print(len(train_sent_vectors))\n",
    "print(len(train_sent_vectors[0]))"
   ]
  },
  {
   "cell_type": "code",
   "execution_count": 126,
   "metadata": {},
   "outputs": [
    {
     "name": "stderr",
     "output_type": "stream",
     "text": [
      "100%|██████████| 21000/21000 [01:09<00:00, 304.33it/s]"
     ]
    },
    {
     "name": "stdout",
     "output_type": "stream",
     "text": [
      "21000\n",
      "50\n"
     ]
    },
    {
     "name": "stderr",
     "output_type": "stream",
     "text": [
      "\n"
     ]
    }
   ],
   "source": [
    "#CV data for average w2v\n",
    "\n",
    "cv_sent_vectors = []\n",
    "for sent in tqdm(cv_sent_list):\n",
    "    cv_sent_vec = np.zeros(50)\n",
    "    cnt_words =0\n",
    "    for word in sent:\n",
    "        if word in cv_w2v_words:\n",
    "            vec = cv_w2v_model.wv[word]\n",
    "            cv_sent_vec += vec\n",
    "            cnt_words += 1\n",
    "    if cnt_words != 0:\n",
    "        cv_sent_vec /= cnt_words\n",
    "    cv_sent_vectors.append(cv_sent_vec)\n",
    "print(len(cv_sent_vectors))\n",
    "print(len(cv_sent_vectors[0]))"
   ]
  },
  {
   "cell_type": "code",
   "execution_count": 127,
   "metadata": {},
   "outputs": [
    {
     "name": "stderr",
     "output_type": "stream",
     "text": [
      "100%|██████████| 30000/30000 [02:06<00:00, 237.16it/s]"
     ]
    },
    {
     "name": "stdout",
     "output_type": "stream",
     "text": [
      "30000\n",
      "50\n"
     ]
    },
    {
     "name": "stderr",
     "output_type": "stream",
     "text": [
      "\n"
     ]
    }
   ],
   "source": [
    "#Test data for average w2v\n",
    "\n",
    "test_sent_vectors = []\n",
    "for sent in tqdm(test_sent_list):\n",
    "    test_sent_vec = np.zeros(50)\n",
    "    cnt_words =0\n",
    "    for word in sent:\n",
    "        if word in test_w2v_words:\n",
    "            vec = test_w2v_model.wv[word]\n",
    "            test_sent_vec += vec\n",
    "            cnt_words += 1\n",
    "    if cnt_words != 0:\n",
    "        test_sent_vec /= cnt_words\n",
    "    test_sent_vectors.append(test_sent_vec)\n",
    "print(len(test_sent_vectors))\n",
    "print(len(test_sent_vectors[0]))"
   ]
  },
  {
   "cell_type": "markdown",
   "metadata": {},
   "source": [
    "#### [4.4.1.2] TFIDF weighted W2v"
   ]
  },
  {
   "cell_type": "code",
   "execution_count": 133,
   "metadata": {},
   "outputs": [
    {
     "name": "stderr",
     "output_type": "stream",
     "text": [
      "100%|██████████| 49000/49000 [05:55<00:00, 137.78it/s]\n"
     ]
    }
   ],
   "source": [
    "model = TfidfVectorizer()\n",
    "train_matrix = model.fit_transform(X_tr['CleanedText'].values)\n",
    "dictionary = dict(zip(model.get_feature_names(), list(model.idf_)))\n",
    "\n",
    "train_feat = model.get_feature_names()\n",
    "\n",
    "train_vectors = [];\n",
    "row=0;\n",
    "for sent in tqdm(train_sent_list):\n",
    "    train_sent_vec = np.zeros(50) \n",
    "    weight_sum =0;\n",
    "    for word in sent:\n",
    "        if word in train_w2v_words:\n",
    "            train_vec = train_w2v_model.wv[word]\n",
    "            train_tf_idf = dictionary[word]*(sent.count(word)/len(sent))\n",
    "            train_sent_vec += (vec * train_tf_idf)\n",
    "            weight_sum += train_tf_idf\n",
    "    if weight_sum != 0:\n",
    "        train_sent_vec /= weight_sum\n",
    "    train_vectors.append(train_sent_vec)\n",
    "    row += 1"
   ]
  },
  {
   "cell_type": "code",
   "execution_count": 134,
   "metadata": {
    "scrolled": true
   },
   "outputs": [
    {
     "name": "stderr",
     "output_type": "stream",
     "text": [
      "100%|██████████| 21000/21000 [01:18<00:00, 269.19it/s]\n"
     ]
    }
   ],
   "source": [
    "model = TfidfVectorizer()\n",
    "cv_matrix = model.fit_transform(X_cv['CleanedText'].values)\n",
    "dictionary = dict(zip(model.get_feature_names(), list(model.idf_)))\n",
    "\n",
    "cv_feat = model.get_feature_names()\n",
    "\n",
    "cv_vectors = [];\n",
    "row=0;\n",
    "for sent in tqdm(cv_sent_list):\n",
    "    cv_sent_vec = np.zeros(50) \n",
    "    weight_sum =0;\n",
    "    for word in sent:\n",
    "        if word in cv_w2v_words:\n",
    "            cv_vec = cv_w2v_model.wv[word]\n",
    "            cv_tf_idf = dictionary[word]*(sent.count(word)/len(sent))\n",
    "            cv_sent_vec += (vec * cv_tf_idf)\n",
    "            weight_sum += cv_tf_idf\n",
    "    if weight_sum != 0:\n",
    "        cv_sent_vec /= weight_sum\n",
    "    cv_vectors.append(cv_sent_vec)\n",
    "    row += 1"
   ]
  },
  {
   "cell_type": "code",
   "execution_count": 135,
   "metadata": {},
   "outputs": [
    {
     "name": "stderr",
     "output_type": "stream",
     "text": [
      "100%|██████████| 30000/30000 [02:30<00:00, 199.22it/s]\n"
     ]
    }
   ],
   "source": [
    "model = TfidfVectorizer()\n",
    "test_matrix = model.fit_transform(X_test['CleanedText'].values)\n",
    "dictionary = dict(zip(model.get_feature_names(), list(model.idf_)))\n",
    "\n",
    "test_feat = model.get_feature_names()\n",
    "\n",
    "test_vectors = [];\n",
    "row=0;\n",
    "for sent in tqdm(test_sent_list):\n",
    "    test_sent_vec = np.zeros(50) \n",
    "    weight_sum =0;\n",
    "    for word in sent:\n",
    "        if word in test_w2v_words:\n",
    "            test_vec = test_w2v_model.wv[word]\n",
    "            test_tf_idf = dictionary[word]*(sent.count(word)/len(sent))\n",
    "            test_sent_vec += (vec * test_tf_idf)\n",
    "            weight_sum += test_tf_idf\n",
    "    if weight_sum != 0:\n",
    "        test_sent_vec /= weight_sum\n",
    "    test_vectors.append(train_sent_vec)\n",
    "    row += 1"
   ]
  },
  {
   "cell_type": "markdown",
   "metadata": {},
   "source": [
    "# [5] Assignment 5: Apply Logistic Regression"
   ]
  },
  {
   "cell_type": "markdown",
   "metadata": {},
   "source": [
    "<ol>\n",
    "    <li><strong>Apply Logistic Regression on these feature sets</strong>\n",
    "        <ul>\n",
    "            <li><font color='red'>SET 1:</font>Review text, preprocessed one converted into vectors using (BOW)</li>\n",
    "            <li><font color='red'>SET 2:</font>Review text, preprocessed one converted into vectors using (TFIDF)</li>\n",
    "            <li><font color='red'>SET 3:</font>Review text, preprocessed one converted into vectors using (AVG W2v)</li>\n",
    "            <li><font color='red'>SET 4:</font>Review text, preprocessed one converted into vectors using (TFIDF W2v)</li>\n",
    "        </ul>\n",
    "    </li>\n",
    "    <br>\n",
    "    <li><strong>Hyper paramter tuning (find best hyper parameters corresponding the algorithm that you choose)</strong>\n",
    "        <ul>\n",
    "    <li>Find the best hyper parameter which will give the maximum <a href='https://www.appliedaicourse.com/course/applied-ai-course-online/lessons/receiver-operating-characteristic-curve-roc-curve-and-auc-1/'>AUC</a> value</li>\n",
    "    <li>Find the best hyper paramter using k-fold cross validation or simple cross validation data</li>\n",
    "    <li>Use gridsearch cv or randomsearch cv or you can also write your own for loops to do this task of hyperparameter tuning</li>          \n",
    "        </ul>\n",
    "    </li>\n",
    "    <br>\n",
    "    <li><strong>Pertubation Test</strong>\n",
    "        <ul>\n",
    "    <li>Get the weights W after fit your model with the data X.</li>\n",
    "    <li>Add a noise to the X (X' = X + e) and get the new data set X' (if X is a sparse\n",
    "matrix, X.data+=e)</li>\n",
    "    <li>Fit the model again on data X' and get the weights W'</li>\n",
    "    <li>Add a small eps value(to eliminate the divisible by zero error) to W and W’ i.e\n",
    "W=W+10^-6 and W’ = W’+10^-6</li>\n",
    "    <li>Now find the % change between W and W' (| (W-W') / (W) |)*100)</li>\n",
    "    <li>Calculate the 0th, 10th, 20th, 30th, ...100th percentiles, and observe any sudden rise in the values of percentage_change_vector</li>\n",
    "    <li> Ex: consider your 99th percentile is 1.3 and your 100th percentiles are 34.6, there is sudden rise from 1.3 to 34.6, now calculate the 99.1, 99.2, 99.3,..., 100th percentile values and get the proper value after which there is sudden rise the values, assume it is 2.5</li>\n",
    "            <li> Print the feature names whose % change is more than a threshold x(in our example it's 2.5)</li>\n",
    "        </ul>\n",
    "    </li>\n",
    "    <br>\n",
    "    <li><strong>Sparsity</strong>\n",
    "        <ul>\n",
    "    <li>Calculate sparsity on weight vector obtained after using L1 regularization</li>\n",
    "        </ul>\n",
    "    </li>\n",
    "    <br><font color='red'>NOTE: Do sparsity and multicollinearity for any one of the vectorizers. Bow or tf-idf is recommended.</font>\n",
    "    <br>\n",
    "    <br>\n",
    "    <li><strong>Feature importance</strong>\n",
    "        <ul>\n",
    "    <li>Get top 10 important features for both positive and negative classes separately.</li>\n",
    "        </ul>\n",
    "    </li>\n",
    "    <br>\n",
    "    <li><strong>Feature engineering</strong>\n",
    "        <ul>\n",
    "    <li>To increase the performance of your model, you can also experiment with with feature engineering like :</li>\n",
    "            <ul>\n",
    "            <li>Taking length of reviews as another feature.</li>\n",
    "            <li>Considering some features from review summary as well.</li>\n",
    "        </ul>\n",
    "        </ul>\n",
    "    </li>\n",
    "    <br>\n",
    "    <li><strong>Representation of results</strong>\n",
    "        <ul>\n",
    "    <li>You need to plot the performance of model both on train data and cross validation data for each hyper parameter, like shown in the figure.\n",
    "    <img src='train_cv_auc.JPG' width=300px></li>\n",
    "    <li>Once after you found the best hyper parameter, you need to train your model with it, and find the AUC on test data and plot the ROC curve on both train and test.\n",
    "    <img src='train_test_auc.JPG' width=300px></li>\n",
    "    <li>Along with plotting ROC curve, you need to print the <a href='https://www.appliedaicourse.com/course/applied-ai-course-online/lessons/confusion-matrix-tpr-fpr-fnr-tnr-1/'>confusion matrix</a> with predicted and original labels of test data points. Please visualize your confusion matrices using <a href='https://seaborn.pydata.org/generated/seaborn.heatmap.html'>seaborn heatmaps.\n",
    "    <img src='confusion_matrix.png' width=300px></li>\n",
    "        </ul>\n",
    "    </li>\n",
    "    <br>\n",
    "    <li><strong>Conclusion</strong>\n",
    "        <ul>\n",
    "    <li>You need to summarize the results at the end of the notebook, summarize it in the table format. To print out a table please refer to this prettytable library<a href='http://zetcode.com/python/prettytable/'>  link</a> \n",
    "        <img src='summary.JPG' width=400px>\n",
    "    </li>\n",
    "        </ul>\n",
    "</ol>"
   ]
  },
  {
   "cell_type": "markdown",
   "metadata": {},
   "source": [
    "<h4><font color='red'>Note: Data Leakage</font></h4>\n",
    "\n",
    "1. There will be an issue of data-leakage if you vectorize the entire data and then split it into train/cv/test.\n",
    "2. To avoid the issue of data-leakag, make sure to split your data first and then vectorize it. \n",
    "3. While vectorizing your data, apply the method fit_transform() on you train data, and apply the method transform() on cv/test data.\n",
    "4. For more details please go through this <a href='https://soundcloud.com/applied-ai-course/leakage-bow-and-tfidf'>link.</a>"
   ]
  },
  {
   "cell_type": "markdown",
   "metadata": {},
   "source": [
    "# Applying Logistic Regression"
   ]
  },
  {
   "cell_type": "markdown",
   "metadata": {},
   "source": [
    "## [5.1] Logistic Regression on BOW,<font color='red'> SET 1</font>"
   ]
  },
  {
   "cell_type": "markdown",
   "metadata": {},
   "source": [
    "### [5.1.1] Applying Logistic Regression with L1 regularization on BOW,<font color='red'> SET 1</font>"
   ]
  },
  {
   "cell_type": "code",
   "execution_count": 24,
   "metadata": {},
   "outputs": [],
   "source": [
    "#Performing Column standardization on train and cv data\n",
    "from sklearn.preprocessing import StandardScaler\n",
    "\n",
    "scaler = StandardScaler(copy=True, with_mean=False, with_std=True)\n",
    "\n",
    "X_tr_bow= scaler.fit_transform(X_tr_bow)\n",
    "\n",
    "X_tr_bow= scaler.fit_transform(X_tr_bow)"
   ]
  },
  {
   "cell_type": "code",
   "execution_count": 25,
   "metadata": {},
   "outputs": [
    {
     "name": "stdout",
     "output_type": "stream",
     "text": [
      "\n",
      "Train auc for C = 0.000010 is 0.500000%\n",
      "\n",
      "Train auc for C = 0.000100 is 0.500000%\n",
      "\n",
      "Train auc for C = 0.001000 is 0.525236%\n",
      "\n",
      "Train auc for C = 0.010000 is 0.788717%\n",
      "\n",
      "Train auc for C = 0.100000 is 0.936016%\n",
      "\n",
      "Train auc for C = 1.000000 is 0.978040%\n",
      "\n",
      "Train auc for C = 10.000000 is 0.986433%\n",
      "\n",
      "Train auc for C = 100.000000 is 0.988744%\n",
      "\n",
      "Train auc for C = 1000.000000 is 0.987271%\n",
      "\n",
      "Train auc for C = 10000.000000 is 0.987659%\n",
      "****************************************************************************************************\n",
      "\n",
      "CV auc for C = 0.000010 is 0.500000%\n",
      "\n",
      "CV auc for C = 0.000100 is 0.500000%\n",
      "\n",
      "CV auc for C = 0.001000 is 0.500000%\n",
      "\n",
      "CV auc for C = 0.010000 is 0.501176%\n",
      "\n",
      "CV auc for C = 0.100000 is 0.522981%\n",
      "\n",
      "CV auc for C = 1.000000 is 0.570328%\n",
      "\n",
      "CV auc for C = 10.000000 is 0.587966%\n",
      "\n",
      "CV auc for C = 100.000000 is 0.577359%\n",
      "\n",
      "CV auc for C = 1000.000000 is 0.580360%\n",
      "\n",
      "CV auc for C = 10000.000000 is 0.582294%\n"
     ]
    }
   ],
   "source": [
    "from sklearn.linear_model import LogisticRegression\n",
    "from sklearn.metrics import roc_auc_score\n",
    "\n",
    "c = [0.00001, 0.0001, 0.001, 0.01, 0.1, 1, 10, 100, 1000, 10000]\n",
    "\n",
    "tr_list = []\n",
    "for i in c:\n",
    "    lr = LogisticRegression(penalty='l1', C=i, n_jobs=-1)\n",
    "    lr.fit(X_tr_bow, y_tr)\n",
    "    pred = lr.predict(X_tr_bow)\n",
    "    auc = roc_auc_score(y_tr, pred)\n",
    "    tr_list.append(auc.mean())\n",
    "    print('\\nTrain auc for C = %f is %f%%' % (i, auc))\n",
    "\n",
    "print('*'*100)\n",
    "\n",
    "cv_list = []\n",
    "for j in c:\n",
    "    lr = LogisticRegression(penalty='l1', C=j, n_jobs=-1)\n",
    "    lr.fit(X_tr_bow, y_tr)\n",
    "    pred = lr.predict(X_cv_bow)\n",
    "    auc = roc_auc_score(y_cv, pred)\n",
    "    cv_list.append(auc.mean())\n",
    "    print('\\nCV auc for C = %f is %f%%' % (j, auc))"
   ]
  },
  {
   "cell_type": "code",
   "execution_count": 28,
   "metadata": {},
   "outputs": [],
   "source": [
    "import math\n",
    "\n",
    "c = [0.00001, 0.0001, 0.001, 0.01, 0.1, 1, 10, 100, 1000, 10000]\n",
    "\n",
    "c =  [math.log(i) for i in c] #Applying log(alpha) for better visualization"
   ]
  },
  {
   "cell_type": "code",
   "execution_count": 29,
   "metadata": {},
   "outputs": [
    {
     "data": {
      "image/png": "[encoded data removed]",
      "text/plain": [
       "<Figure size 432x288 with 1 Axes>"
      ]
     },
     "metadata": {},
     "output_type": "display_data"
    }
   ],
   "source": [
    "sns.set_style(\"darkgrid\")\n",
    "plt.plot(c, tr_list, label= 'Train AUC')\n",
    "plt.plot(c, cv_list, label= 'CV AUC')\n",
    "plt.xlabel(\"C values\")\n",
    "plt.ylabel(\"AUC\")\n",
    "plt.title(\"AUC for different C values\")\n",
    "plt.legend()\n",
    "plt.show()"
   ]
  },
  {
   "cell_type": "markdown",
   "metadata": {},
   "source": [
    "### Observation:\n",
    "From the above table and data we can observe that the optimal value of C is 10 with CV AUC score of 0.587"
   ]
  },
  {
   "cell_type": "code",
   "execution_count": 27,
   "metadata": {},
   "outputs": [
    {
     "name": "stdout",
     "output_type": "stream",
     "text": [
      "\n",
      "****Test auc for C = 10 is 0.577235%\n"
     ]
    }
   ],
   "source": [
    "lr = LogisticRegression(penalty='l1', C=10, n_jobs=-1)\n",
    "lr.fit(X_tr_bow, y_tr)\n",
    "pred = lr.predict(X_test_bow)\n",
    "auc = roc_auc_score(y_test, pred)\n",
    "print('\\n****Test auc for C = 10 is %f%%' % (auc))"
   ]
  },
  {
   "cell_type": "code",
   "execution_count": 30,
   "metadata": {},
   "outputs": [
    {
     "data": {
      "image/png": "[encoded data removed]",
      "text/plain": [
       "<Figure size 432x288 with 1 Axes>"
      ]
     },
     "metadata": {},
     "output_type": "display_data"
    }
   ],
   "source": [
    "lw = 2\n",
    "pred_proba = lr.predict_proba(X_test_bow)[::,1]\n",
    "fpr, tpr, _ = metrics.roc_curve(y_test,  pred_proba)\n",
    "auc = metrics.roc_auc_score(y_test, pred_proba)\n",
    "plt.plot(fpr,tpr,label=\"roc curve, auc=\"+str(auc))\n",
    "plt.plot([0, 1], [0, 1], color='red', lw=lw, linestyle='--')\n",
    "plt.xlabel(\"false positive rate\")\n",
    "plt.ylabel(\"true positive rate\")\n",
    "plt.legend(loc=4)\n",
    "plt.show()"
   ]
  },
  {
   "cell_type": "markdown",
   "metadata": {},
   "source": [
    "### Obeservation:\n",
    "The ROC curve of BOW with L1 regularizer is above the random line and seperated by a good distance"
   ]
  },
  {
   "cell_type": "code",
   "execution_count": 31,
   "metadata": {},
   "outputs": [
    {
     "data": {
      "image/png": "[encoded data removed]",
      "text/plain": [
       "<Figure size 432x288 with 2 Axes>"
      ]
     },
     "metadata": {},
     "output_type": "display_data"
    }
   ],
   "source": [
    "conf_matrix = confusion_matrix(y_test, pred)\n",
    "class_label = ['negative', 'positive']\n",
    "df_conf_matrix = pd.DataFrame(\n",
    "    conf_matrix, index=class_label, columns=class_label)\n",
    "sns.heatmap(df_conf_matrix, annot=True, fmt='d')\n",
    "plt.title(\"Confusion Matrix\")\n",
    "plt.xlabel(\"Predicted\")\n",
    "plt.ylabel(\"Actual\")\n",
    "plt.show()"
   ]
  },
  {
   "cell_type": "markdown",
   "metadata": {},
   "source": [
    "### Observation:\n",
    "True Negative = 582, True Positive = 26221, False Negative = 114, False Positive = 3083"
   ]
  },
  {
   "cell_type": "markdown",
   "metadata": {},
   "source": [
    "#### [5.1.1.1] Calculating sparsity on weight vector obtained using L1 regularization on BOW,<font color='red'> SET 1</font>"
   ]
  },
  {
   "cell_type": "code",
   "execution_count": 32,
   "metadata": {},
   "outputs": [
    {
     "name": "stdout",
     "output_type": "stream",
     "text": [
      "\n",
      "****Test auc for C = 1 is 0.566145%\n",
      "Non Zero weights at C=1 are: 9352\n"
     ]
    }
   ],
   "source": [
    "lr = LogisticRegression(penalty='l1', C=1, n_jobs=-1)\n",
    "lr.fit(X_tr_bow, y_tr)\n",
    "pred = lr.predict(X_test_bow)\n",
    "auc = roc_auc_score(y_test, pred)\n",
    "print('\\n****Test auc for C = 1 is %f%%' % (auc))\n",
    "\n",
    "\n",
    "print(\"Non Zero weights at C=1 are:\",np.count_nonzero(lr.coef_)) #Sparsity on weight vector obtained by L1 on BoW"
   ]
  },
  {
   "cell_type": "code",
   "execution_count": 33,
   "metadata": {},
   "outputs": [
    {
     "name": "stdout",
     "output_type": "stream",
     "text": [
      "\n",
      "****Test auc for C = 10 is 0.576962%\n",
      "Non Zero weights at C=10 are: 12740\n"
     ]
    }
   ],
   "source": [
    "lr = LogisticRegression(penalty='l1', C=10, n_jobs=-1)\n",
    "lr.fit(X_tr_bow, y_tr)\n",
    "pred = lr.predict(X_test_bow)\n",
    "auc = roc_auc_score(y_test, pred)\n",
    "print('\\n****Test auc for C = 10 is %f%%' % (auc))\n",
    "\n",
    "\n",
    "print(\"Non Zero weights at C=10 are:\",np.count_nonzero(lr.coef_))"
   ]
  },
  {
   "cell_type": "code",
   "execution_count": 34,
   "metadata": {},
   "outputs": [
    {
     "name": "stdout",
     "output_type": "stream",
     "text": [
      "\n",
      "****Test auc for C = 100 is 0.576007%\n",
      "Non Zero weights at C=100 are: 16355\n"
     ]
    }
   ],
   "source": [
    "lr = LogisticRegression(penalty='l1', C=100, n_jobs=-1)\n",
    "lr.fit(X_tr_bow, y_tr)\n",
    "pred = lr.predict(X_test_bow)\n",
    "auc = roc_auc_score(y_test, pred)\n",
    "print('\\n****Test auc for C = 100 is %f%%' % (auc))\n",
    "\n",
    "\n",
    "print(\"Non Zero weights at C=100 are:\",np.count_nonzero(lr.coef_))"
   ]
  },
  {
   "cell_type": "markdown",
   "metadata": {},
   "source": [
    "### Observation:\n",
    "\n",
    "When L1 regularization is applied with BoW, the sparsity on weight vectors decreases i.e., the number of non zero values increases with the increase in the value of hyperparameter C."
   ]
  },
  {
   "cell_type": "markdown",
   "metadata": {},
   "source": [
    "### [5.1.2] Applying Logistic Regression with L2 regularization on BOW,<font color='red'> SET 1</font>"
   ]
  },
  {
   "cell_type": "code",
   "execution_count": 36,
   "metadata": {},
   "outputs": [
    {
     "name": "stdout",
     "output_type": "stream",
     "text": [
      "\n",
      "Train auc for C = 0.000010 is 0.544797%\n",
      "\n",
      "Train auc for C = 0.000100 is 0.783663%\n",
      "\n",
      "Train auc for C = 0.001000 is 0.902303%\n",
      "\n",
      "Train auc for C = 0.010000 is 0.950860%\n",
      "\n",
      "Train auc for C = 0.100000 is 0.973924%\n",
      "\n",
      "Train auc for C = 1.000000 is 0.986493%\n",
      "\n",
      "Train auc for C = 10.000000 is 0.993246%\n",
      "\n",
      "Train auc for C = 100.000000 is 0.993870%\n",
      "\n",
      "Train auc for C = 1000.000000 is 0.983440%\n",
      "\n",
      "Train auc for C = 10000.000000 is 0.983487%\n",
      "****************************************************************************************************\n",
      "\n",
      "CV auc for C = 0.000010 is 0.500000%\n",
      "\n",
      "CV auc for C = 0.000100 is 0.500196%\n",
      "\n",
      "CV auc for C = 0.001000 is 0.502941%\n",
      "\n",
      "CV auc for C = 0.010000 is 0.521014%\n",
      "\n",
      "CV auc for C = 0.100000 is 0.553953%\n",
      "\n",
      "CV auc for C = 1.000000 is 0.583917%\n",
      "\n",
      "CV auc for C = 10.000000 is 0.600985%\n",
      "\n",
      "CV auc for C = 100.000000 is 0.603007%\n",
      "\n",
      "CV auc for C = 1000.000000 is 0.575412%\n",
      "\n",
      "CV auc for C = 10000.000000 is 0.575608%\n"
     ]
    }
   ],
   "source": [
    "c = [0.00001, 0.0001, 0.001, 0.01, 0.1, 1, 10, 100, 1000, 10000]\n",
    "\n",
    "tr_list = []\n",
    "for i in c:\n",
    "    lr = LogisticRegression(penalty='l2', C=i, n_jobs=-1)\n",
    "    lr.fit(X_tr_bow, y_tr)\n",
    "    pred = lr.predict(X_tr_bow)\n",
    "    auc = roc_auc_score(y_tr, pred)\n",
    "    tr_list.append(auc.mean())\n",
    "    print('\\nTrain auc for C = %f is %f%%' % (i, auc))\n",
    "\n",
    "print('*'*100)\n",
    "\n",
    "cv_list = []\n",
    "for j in c:\n",
    "    lr = LogisticRegression(penalty='l2', C=j, n_jobs=-1)\n",
    "    lr.fit(X_tr_bow, y_tr)\n",
    "    pred = lr.predict(X_cv_bow)\n",
    "    auc = roc_auc_score(y_cv, pred)\n",
    "    cv_list.append(auc.mean())\n",
    "    print('\\nCV auc for C = %f is %f%%' % (j, auc))"
   ]
  },
  {
   "cell_type": "code",
   "execution_count": 37,
   "metadata": {},
   "outputs": [],
   "source": [
    "c = [0.00001, 0.0001, 0.001, 0.01, 0.1, 1, 10, 100, 1000, 10000]\n",
    "\n",
    "c =  [math.log(i) for i in c] #Applying log(alpha) for better visualization"
   ]
  },
  {
   "cell_type": "code",
   "execution_count": 38,
   "metadata": {},
   "outputs": [
    {
     "data": {
      "image/png": "[encoded data removed]",
      "text/plain": [
       "<Figure size 432x288 with 1 Axes>"
      ]
     },
     "metadata": {},
     "output_type": "display_data"
    }
   ],
   "source": [
    "sns.set_style(\"darkgrid\")\n",
    "plt.plot(c, tr_list, label= 'Train AUC')\n",
    "plt.plot(c,cv_list, label= 'CV AUC')\n",
    "plt.xlabel(\"C values\")\n",
    "plt.ylabel(\"AUC\")\n",
    "plt.title(\"AUC for different C values\")\n",
    "plt.legend()\n",
    "plt.show()"
   ]
  },
  {
   "cell_type": "markdown",
   "metadata": {},
   "source": [
    "### Observation:\n",
    "From the above table and data we can observe that the optimalvalue of C is 100 with CV AUC score of 0.603"
   ]
  },
  {
   "cell_type": "code",
   "execution_count": 47,
   "metadata": {},
   "outputs": [
    {
     "name": "stdout",
     "output_type": "stream",
     "text": [
      "\n",
      "****Test auc for C = 100 is 0.582604%\n",
      "Non Zero weights at C = 100 are: 26617\n"
     ]
    }
   ],
   "source": [
    "w= lr.coef_\n",
    "\n",
    "lr = LogisticRegression(penalty='l2', C=100, n_jobs=-1)\n",
    "lr.fit(X_tr_bow, y_tr)\n",
    "pred = lr.predict(X_test_bow)\n",
    "auc = roc_auc_score(y_test, pred)\n",
    "print('\\n****Test auc for C = 100 is %f%%' % (auc))\n",
    "\n",
    "\n",
    "print(\"Non Zero weights at C = 100 are:\",np.count_nonzero(w)) #Sparsity on weight vector obtained by L2 on BoW"
   ]
  },
  {
   "cell_type": "markdown",
   "metadata": {},
   "source": [
    "## Observation:\n",
    "\n",
    "The non-zero weights when L1 regularization applied on BoW with C as 100 = 16355\n",
    "\n",
    "The non-zero weights when L2 regularization applied on BoW with C as 100 = 26617\n",
    "\n",
    "There is a massive difference in the no. of zero values when L1 regularization and L2 regularizations are applied"
   ]
  },
  {
   "cell_type": "code",
   "execution_count": 40,
   "metadata": {},
   "outputs": [
    {
     "data": {
      "image/png": "[encoded data removed]",
      "text/plain": [
       "<Figure size 432x288 with 1 Axes>"
      ]
     },
     "metadata": {},
     "output_type": "display_data"
    }
   ],
   "source": [
    "lw = 2\n",
    "pred_proba = lr.predict_proba(X_test_bow)[::,1]\n",
    "fpr, tpr, _ = metrics.roc_curve(y_test,  pred_proba)\n",
    "auc = metrics.roc_auc_score(y_test, pred_proba)\n",
    "plt.plot(fpr,tpr,label=\"roc curve, auc=\"+str(auc))\n",
    "plt.plot([0, 1], [0, 1], color='red', lw=lw, linestyle='--')\n",
    "plt.xlabel(\"false positive rate\")\n",
    "plt.ylabel(\"true positive rate\")\n",
    "plt.legend(loc=4)\n",
    "plt.show()"
   ]
  },
  {
   "cell_type": "markdown",
   "metadata": {},
   "source": [
    "### Obeservation:\n",
    "The ROC curve of BOW with L2 regularization is above the random line and seperated by a good distance"
   ]
  },
  {
   "cell_type": "code",
   "execution_count": 41,
   "metadata": {},
   "outputs": [
    {
     "data": {
      "image/png": "[encoded data removed]",
      "text/plain": [
       "<Figure size 432x288 with 2 Axes>"
      ]
     },
     "metadata": {},
     "output_type": "display_data"
    }
   ],
   "source": [
    "conf_matrix = confusion_matrix(y_test, pred)\n",
    "class_label = ['negative', 'positive']\n",
    "df_conf_matrix = pd.DataFrame(\n",
    "    conf_matrix, index=class_label, columns=class_label)\n",
    "sns.heatmap(df_conf_matrix, annot=True, fmt='d')\n",
    "plt.title(\"Confusion Matrix\")\n",
    "plt.xlabel(\"Predicted\")\n",
    "plt.ylabel(\"Actual\")\n",
    "plt.show()"
   ]
  },
  {
   "cell_type": "markdown",
   "metadata": {},
   "source": [
    "### Observation:\n",
    "True Negative = 762, True Positive = 26077, False Negative = 258, False Positive = 2903"
   ]
  },
  {
   "cell_type": "markdown",
   "metadata": {},
   "source": [
    "#### [5.1.2.1] Performing pertubation test (multicollinearity check) on BOW,<font color='red'> SET 1</font>"
   ]
  },
  {
   "cell_type": "code",
   "execution_count": 48,
   "metadata": {},
   "outputs": [
    {
     "name": "stdout",
     "output_type": "stream",
     "text": [
      "(49000, 26617)\n",
      "(49000, 26617)\n"
     ]
    }
   ],
   "source": [
    "#Reference: https://github.com/nishantml/Logistic-Regression-detailed-implementation/blob/master/Logistic%20Regression.ipynb (Performing perturbation test)\n",
    "\n",
    "#After getting the weights W after fit your model with the train data.\n",
    "#Adding noise to the X (X' = X + e) and get the new data set X' (if X is a sparse matrix, X.data+=e) that is e = 0.01\n",
    "                       \n",
    "print(X_tr_bow.shape);\n",
    "Standardize_x_tr_bow = X_tr_bow\n",
    "Standardize_x_tr_bow.data = Standardize_x_tr_bow.data + 0.01\n",
    "print(Standardize_x_tr_bow.shape)"
   ]
  },
  {
   "cell_type": "code",
   "execution_count": 49,
   "metadata": {},
   "outputs": [
    {
     "name": "stdout",
     "output_type": "stream",
     "text": [
      "\n",
      "****Test auc for C = 100 is 0.574913%\n",
      "Non Zero weights at C = 100 are: 26617\n"
     ]
    }
   ],
   "source": [
    "#Training on train data having random noise\n",
    "\n",
    "lr = LogisticRegression(penalty='l2', C=100, n_jobs=-1)\n",
    "lr.fit(Standardize_x_tr_bow, y_tr)\n",
    "w_dash = lr.coef_\n",
    "pred = lr.predict(X_test_bow)\n",
    "auc = roc_auc_score(y_test, pred)\n",
    "print('\\n****Test auc for C = 100 is %f%%' % (auc))\n",
    "\n",
    "\n",
    "print(\"Non Zero weights at C = 100 are:\",np.count_nonzero(w_dash))"
   ]
  },
  {
   "cell_type": "code",
   "execution_count": 50,
   "metadata": {},
   "outputs": [],
   "source": [
    "w = w[0] + 0.000001\n",
    "w_dash = w_dash[0] +0.000001\n",
    "W = list(w)\n",
    "W_Dash = list(w_dash)"
   ]
  },
  {
   "cell_type": "code",
   "execution_count": 52,
   "metadata": {},
   "outputs": [
    {
     "name": "stderr",
     "output_type": "stream",
     "text": [
      "100%|██████████| 26617/26617 [00:00<00:00, 846840.19it/s]\n"
     ]
    }
   ],
   "source": [
    "#finding the % change between W and W' (| (W-W') / (W) |)*100)\n",
    "\n",
    "change_vector_percentage = []\n",
    "for i in tqdm(range(0,len(W))):\n",
    "    change_vector = 0\n",
    "    change_vector=(abs((W[i]-(W_Dash[i]))/(W[i])))*100\n",
    "    change_vector_percentage.append(change_vector)"
   ]
  },
  {
   "cell_type": "code",
   "execution_count": 53,
   "metadata": {},
   "outputs": [
    {
     "data": {
      "image/png": "[encoded data removed]",
      "text/plain": [
       "<Figure size 432x288 with 1 Axes>"
      ]
     },
     "metadata": {},
     "output_type": "display_data"
    }
   ],
   "source": [
    "#calculating the 0th, 10th, 20th, 30th, ...100th percentiles, and observing any sudden rise in the values of percentage_change_vector\n",
    "\n",
    "percentile_value = []\n",
    "percentile = []\n",
    "i= 0\n",
    "while i <100:\n",
    "    percentile.append(i)\n",
    "    percentile_value.append(np.percentile(change_vector_percentage,i))\n",
    "    i = i+1;\n",
    "    \n",
    "# percentile_value\n",
    "plt.plot(percentile, percentile_value, 'k--',label='chnage')\n",
    "plt.xlabel('percentile')\n",
    "plt.ylabel('percentage change')\n",
    "plt.title(\"percentile value\")\n",
    "plt.legend()\n",
    "plt.show()"
   ]
  },
  {
   "cell_type": "markdown",
   "metadata": {},
   "source": [
    "##### Observation:\n",
    "As we can see above there is a sudden raise between 90 and 100"
   ]
  },
  {
   "cell_type": "code",
   "execution_count": 54,
   "metadata": {},
   "outputs": [
    {
     "data": {
      "image/png": "[encoded data removed]",
      "text/plain": [
       "<Figure size 432x288 with 1 Axes>"
      ]
     },
     "metadata": {},
     "output_type": "display_data"
    },
    {
     "name": "stdout",
     "output_type": "stream",
     "text": [
      "Percentile value from 90 to 99\n",
      "\n",
      "[90, 91, 92, 93, 94, 95, 96, 97, 98, 99]\n",
      "[45.12079040719262, 48.75475219829979, 53.804963731631496, 59.865805395308136, 69.52505304845418, 79.28111978015633, 96.87614829039795, 130.21596933550035, 207.962728832516, 420.0449366403286]\n"
     ]
    }
   ],
   "source": [
    "ninty_percentile_val = []\n",
    "ninty_percentile = []\n",
    "j= 90\n",
    "while j <100:\n",
    "    ninty_percentile.append(j)\n",
    "    ninty_percentile_val.append(np.percentile(change_vector_percentage,j))\n",
    "    j = j+1;\n",
    "    \n",
    "plt.plot(ninty_percentile, ninty_percentile_val, 'k--',label='chnage')\n",
    "plt.xlabel('percentile')\n",
    "plt.ylabel('percentile change')\n",
    "plt.title(\"percentile_value\")\n",
    "plt.legend()\n",
    "plt.show()\n",
    "\n",
    "print(\"Percentile value from 90 to 99\\n\")\n",
    "print(ninty_percentile)\n",
    "print(ninty_percentile_val)"
   ]
  },
  {
   "cell_type": "markdown",
   "metadata": {},
   "source": [
    "##### Observation:\n",
    "From the above graph and data we can observe that there is a drastic change between 97 and 99"
   ]
  },
  {
   "cell_type": "code",
   "execution_count": 56,
   "metadata": {},
   "outputs": [
    {
     "data": {
      "image/png": "[encoded data removed]",
      "text/plain": [
       "<Figure size 432x288 with 1 Axes>"
      ]
     },
     "metadata": {},
     "output_type": "display_data"
    },
    {
     "name": "stdout",
     "output_type": "stream",
     "text": [
      "Percentile value from 97.0 to 99.0\n",
      "\n",
      "[97, 97.1, 97.19999999999999, 97.29999999999998, 97.39999999999998, 97.49999999999997, 97.59999999999997, 97.69999999999996, 97.79999999999995, 97.89999999999995, 97.99999999999994, 98.09999999999994, 98.19999999999993, 98.29999999999993, 98.39999999999992, 98.49999999999991, 98.59999999999991, 98.6999999999999, 98.7999999999999, 98.89999999999989, 98.99999999999989]\n",
      "[130.21596933550035, 133.66114912969564, 138.44242135646735, 144.8632656030143, 150.8624240624944, 158.66705648382205, 165.09385082591214, 172.70640866539335, 182.41305679319797, 194.42593448469992, 207.962728832516, 214.7137837327017, 222.77992653387287, 239.03564218737864, 260.65602984735557, 275.4378850483848, 303.9338406386247, 334.2261994782286, 366.23207706797746, 386.49200542583276, 420.0449366401578]\n"
     ]
    }
   ],
   "source": [
    "ninty_percentile_val = []\n",
    "ninty_percentile = []\n",
    "j= 97\n",
    "while j <=99:\n",
    "    ninty_percentile.append(j)\n",
    "    ninty_percentile_val.append(np.percentile(change_vector_percentage,j))\n",
    "    j = j+0.1;\n",
    "    \n",
    "plt.plot(ninty_percentile, ninty_percentile_val, 'r--',label='change')\n",
    "plt.xlabel('percentile')\n",
    "plt.ylabel('percentile change')\n",
    "plt.title(\"percentile_value\")\n",
    "plt.legend()\n",
    "plt.show()\n",
    "\n",
    "print(\"Percentile value from 97.0 to 99.0\\n\")\n",
    "print(ninty_percentile)\n",
    "print(ninty_percentile_val)"
   ]
  },
  {
   "cell_type": "markdown",
   "metadata": {},
   "source": [
    "##### Observation:\n",
    "\n",
    "As we can see above at 98.3 percentile we got our elbow and the value at that is 239.0 and that is our thresold\n",
    "and after getting threshold the features I will print which has more than threshold why? -- they are the features which are affected by simple noise, so they are multicollinear with some other features if any of these features are in important features then we can't trust the top features."
   ]
  },
  {
   "cell_type": "code",
   "execution_count": 57,
   "metadata": {},
   "outputs": [
    {
     "name": "stdout",
     "output_type": "stream",
     "text": [
      "453\n"
     ]
    }
   ],
   "source": [
    "w_with_greater_than_thresold = []\n",
    "count = 0;\n",
    "for i in range(0,len(change_vector_percentage)):\n",
    "    if change_vector_percentage[i] > 239.03:\n",
    "        count = count +1;\n",
    "        w_with_greater_than_thresold.append(w[i])\n",
    "    else:\n",
    "        w_with_greater_than_thresold.append(0.0)\n",
    "        \n",
    "print(count)"
   ]
  },
  {
   "cell_type": "code",
   "execution_count": 59,
   "metadata": {},
   "outputs": [],
   "source": [
    "def collinear_features(vectorizer, w):\n",
    "    feature_names = vectorizer.get_feature_names()\n",
    "    topn_class2 = sorted(zip(w, feature_names), reverse=True)[:] \n",
    "    features_list = []\n",
    "    for coef, feat in topn_class2:\n",
    "        if coef != 0.0 :\n",
    "            features_list.append(feat)\n",
    "                \n",
    "    collinear_features = features_list\n",
    "    return collinear_features"
   ]
  },
  {
   "cell_type": "code",
   "execution_count": 60,
   "metadata": {},
   "outputs": [
    {
     "name": "stdout",
     "output_type": "stream",
     "text": [
      "['praiseworthi', 'overtook', 'curser', 'wireless', 'debut', 'crape', 'hiss', 'bouillion', 'pseudo', 'arrow', 'traditionalist', 'efagold', 'johanna', 'galt', 'further', 'catalyz', 'onboard', 'symbol', 'kindl', 'unintend', 'pardon', 'react', 'synergi', 'function', 'nutella', 'rico', 'financi', 'german', 'des', 'unseason', 'puerto', 'load', 'asset', 'mexican', 'whichev', 'mad', 'reduc', 'prune', 'partnership', 'asap', 'mere', 'extern', 'eschew', 'liaison', 'bolster', 'ecopod', 'tikka', 'cornucopia', 'mega', 'big', 'histori', 'las', 'regard', 'collin', 'underwhelm', 'winto', 'alberton', 'concret', 'someth', 'improv', 'job', 'lhasa', 'kit', 'spirulina', 'overproduc', 'litani', 'rancha', 'chopstickful', 'chocolati', 'domest', 'gimmicki', 'redirect', 'garganelli', 'forti', 'resourc', 'express', 'biloba', 'domata', 'candl', 'ohhh', 'sharki', 'gato', 'plenti', 'pile', 'fecal', 'breadman', 'flatten', 'reboot', 'defrag', 'condit', 'thinkof', 'tryin', 'lakesid', 'neoguri', 'koran', 'homegrown', 'ver', 'portland', 'prerequisit', 'definiteley', 'toaster', 'uncoop', 'halitosi', 'play', 'mull', 'instil', 'trendi', 'medley', 'hyperlink', 'chief', 'fuse', 'admonit', 'yamamotoyama', 'edibl', 'eversinc', 'jsut', 'ltd', 'reel', 'synagogu', 'arborio', 'toller', 'cranappl', 'rampant', 'sloooowwwli', 'belafont', 'collector', 'document', 'reconsid', 'rewar', 'phd', 'perus', 'lift', 'spackl', 'hoist', 'gump', 'diplomat', 'astut', 'gogo', 'handwash', 'album', 'wellington', 'daub', 'valerian', 'tradeoff', 'sml', 'cruz', 'rebar', 'grose', 'colgat', 'acn', 'rocher', 'subtract', 'peer', 'inadvert', 'spag', 'mozz', 'sunchip', 'fantstic', 'slope', 'tidal', 'halcyon', 'circumspect', 'becuz', 'abcstor', 'sfbc', 'phillip', 'sugur', 'whe', 'crispiest', 'aji', 'happybelli', 'maniac', 'insecticid', 'yore', 'ruptur', 'primordi', 'legion', 'jovial', 'counterattack', 'chum', 'boister', 'delightfuli', 'stire', 'fictiti', 'hom', 'reinact', 'pivot', 'mortifi', 'peppercini', 'spoonful', 'eva', 'noni', 'foodstor', 'guac', 'bayless', 'uncar', 'snowman', 'costo', 'dav', 'zig', 'zag', 'dubai', 'sanwich', 'futher', 'rochest', 'ringer', 'therel', 'ohao', 'mulholland', 'underweight', 'crumbi', 'delhi', 'cohen', 'publish', 'viewer', 'atleast', 'geek', 'downfal', 'sadd', 'anad', 'dazzl', 'startchi', 'uhmmmmm', 'jamba', 'amazonb', 'gasey', 'willett', 'laser', 'stickeri', 'goosebrri', 'cajum', 'scissorhand', 'precondit', 'sizzlin', 'sexifi', 'diann', 'antonio', 'vacuvin', 'kunati', 'contradictori', 'nrg', 'moe', 'duff', 'lovlng', 'nector', 'guesswork', 'muh', 'mideast', 'eulog', 'ergonom', 'off', 'naval', 'tasmania', 'classi', 'delet', 'vulgar', 'cruch', 'woeber', 'tabouli', 'sinder', 'worldwid', 'potluck', 'shppping', 'schnauser', 'nnoth', 'minitur', 'intestsin', 'risc', 'housekeep', 'diamond', 'piquanc', 'ooomph', 'arab', 'aero', 'pupperoni', 'briel', 'envor', 'ceral', 'citric', 'contraind', 'leaven', 'stray', 'sashimi', 'dunde', 'whistl', 'superpow', 'sandworm', 'po', 'pitt', 'oddest', 'interestng', 'cuss', 'afficionado', 'industr', 'accessori', 'dahh', 'munich', 'deliciousthi', 'unwil', 'carlson', 'whine', 'mestemach', 'stair', 'abscond', 'cheeseburg', 'colmbian', 'adobo', 'glycem', 'yoghourt', 'thym', 'protion', 'wholli', 'confectionari', 'stacey', 'radioact', 'abrupt', 'messiah', 'donahu', 'bernard', 'keil', 'jolla', 'jimbo', 'escondido', 'clairemont', 'cerro', 'carlsbad', 'cardiff', 'foothil', 'topnotch', 'jesus', 'demeanor', 'digust', 'viki', 'crabtre', 'meatti', 'esmal', 'bittersweet', 'headphon', 'smother', 'upss', 'loi', 'rapese', 'savi', 'semblanc', 'systemat', 'intrigu', 'conform', 'exhibit', 'writer', 'burrow', 'vietnam', 'hypocrit', 'pray', 'brais', 'molecular', 'jake', 'ref', 'moral', 'reggi', 'gastro', 'mgement', 'fus', 'elev', 'jerri', 'director', 'zaballion', 'docil', 'mamaeun', 'glucosim', 'bobolici', 'boblici', 'adminst', 'pack', 'gyokuro', 'swarm', 'given', 'garlicki', 'woman', 'acut', 'assign', 'ail', 'dessert', 'citadell', 'sweetgourmet', 'soar', 'frost', 'nebraska', 'mirror', 'institut', 'probabi', 'envis', 'senior', 'intimid', 'nathan', 'lotion', 'farm', 'own', 'spoonsful', 'btm', 'rusk', 'moonpi', 'templ', 'muffaletta', 'micro', 'carcass', 'aromat', 'barilla', 'swirl', 'ham', 'birch', 'section', 'goodlif', 'regiment', 'tunisia', 'mezzogiorno', 'merum', 'hydraul', 'gazzetta', 'chutney', 'carob', 'want', 'match', 'annalovesbook', 'book', 'consumpt', 'panama', 'bean', 'marzipan', 'puriti', 'bariani', 'loooooong', 'onezip', 'pregnant', 'fife', 'spirit', 'spread', 'shelnutt', 'vermouth', 'mind', 'gelatin', 'odwalla', 'briefli', 'butteri', 'brew', 'campbel', 'spearhead', 'shortlist', 'moi', 'helm', 'dictat', 'yang', 'yucatan', 'buttinski']\n"
     ]
    }
   ],
   "source": [
    "features_with_greater_than_thresold = collinear_features(count_vect,w_with_greater_than_thresold)\n",
    "print(features_with_greater_than_thresold)"
   ]
  },
  {
   "cell_type": "markdown",
   "metadata": {},
   "source": [
    "### [5.1.3] Feature Importance on BOW,<font color='red'> SET 1</font>"
   ]
  },
  {
   "cell_type": "code",
   "execution_count": 64,
   "metadata": {},
   "outputs": [],
   "source": [
    "def show_most_informative_features(vectorizer, clf, n=10):\n",
    "    feature_names = vectorizer.get_feature_names()\n",
    "    coefs_with_fns = sorted(zip(clf.coef_[0], feature_names))\n",
    "    top = zip(coefs_with_fns[:n], coefs_with_fns[:-(n + 1):-1])\n",
    "    print(\"\\t\\t\\tPositive\\t\\t\\t\\tNegative\")\n",
    "    print(\"________________________________________________________________________________________________\")\n",
    "    for (coef_1, fn_1), (coef_2, fn_2) in top:\n",
    "        print(\"\\t%.4f\\t%-15s\\t\\t\\t\\t%.4f\\t%-15s\" % (coef_2, fn_2, coef_1, fn_1))"
   ]
  },
  {
   "cell_type": "code",
   "execution_count": 65,
   "metadata": {},
   "outputs": [
    {
     "name": "stdout",
     "output_type": "stream",
     "text": [
      "\t\t\tPositive\t\t\t\tNegative\n",
      "________________________________________________________________________________________________\n",
      "\t2.1095\tgreat          \t\t\t\t-1.2972\tworst          \n",
      "\t1.8928\tbest           \t\t\t\t-1.1384\tdisappoint     \n",
      "\t1.8103\tlove           \t\t\t\t-0.9049\tgram           \n",
      "\t1.6242\tdelici         \t\t\t\t-0.8222\todor           \n",
      "\t1.5050\tfavorit        \t\t\t\t-0.7930\twould          \n",
      "\t1.3707\taddict         \t\t\t\t-0.7881\tterribl        \n",
      "\t1.3351\tperfect        \t\t\t\t-0.7565\thorribl        \n",
      "\t1.3240\texcel          \t\t\t\t-0.7366\tslap           \n",
      "\t1.3150\trefresh        \t\t\t\t-0.7067\taction         \n",
      "\t1.2898\trooibo         \t\t\t\t-0.6926\tprotect        \n"
     ]
    }
   ],
   "source": [
    "show_most_informative_features(count_vect,lr)"
   ]
  },
  {
   "cell_type": "markdown",
   "metadata": {},
   "source": [
    "## [5.2] Logistic Regression on TFIDF,<font color='red'> SET 2</font>"
   ]
  },
  {
   "cell_type": "markdown",
   "metadata": {},
   "source": [
    "### [5.2.1] Applying Logistic Regression with L1 regularization on TFIDF,<font color='red'> SET 2</font>"
   ]
  },
  {
   "cell_type": "code",
   "execution_count": 3,
   "metadata": {},
   "outputs": [],
   "source": [
    "# Please write all the code with proper documentation"
   ]
  },
  {
   "cell_type": "markdown",
   "metadata": {},
   "source": [
    "### [5.2.2] Applying Logistic Regression with L2 regularization on TFIDF,<font color='red'> SET 2</font>"
   ]
  },
  {
   "cell_type": "code",
   "execution_count": 99,
   "metadata": {},
   "outputs": [
    {
     "name": "stdout",
     "output_type": "stream",
     "text": [
      "\n",
      "Train auc for C = 0.000010 is 0.500000%\n",
      "\n",
      "Train auc for C = 0.000100 is 0.500000%\n",
      "\n",
      "Train auc for C = 0.001000 is 0.500000%\n",
      "\n",
      "Train auc for C = 0.010000 is 0.500000%\n",
      "\n",
      "Train auc for C = 0.100000 is 0.563886%\n",
      "\n",
      "Train auc for C = 1.000000 is 0.762529%\n",
      "\n",
      "Train auc for C = 10.000000 is 0.855374%\n",
      "\n",
      "Train auc for C = 100.000000 is 0.896405%\n",
      "\n",
      "Train auc for C = 1000.000000 is 0.916842%\n",
      "\n",
      "Train auc for C = 10000.000000 is 0.921722%\n",
      "****************************************************************************************************\n",
      "\n",
      "CV auc for C = 0.000010 is 0.500000%\n",
      "\n",
      "CV auc for C = 0.000100 is 0.500000%\n",
      "\n",
      "CV auc for C = 0.001000 is 0.500000%\n",
      "\n",
      "CV auc for C = 0.010000 is 0.500000%\n",
      "\n",
      "CV auc for C = 0.100000 is 0.557072%\n",
      "\n",
      "CV auc for C = 1.000000 is 0.735713%\n",
      "\n",
      "CV auc for C = 10.000000 is 0.779325%\n",
      "\n",
      "CV auc for C = 100.000000 is 0.783248%\n",
      "\n",
      "CV auc for C = 1000.000000 is 0.771565%\n",
      "\n",
      "CV auc for C = 10000.000000 is 0.763948%\n"
     ]
    }
   ],
   "source": [
    "c = [0.00001, 0.0001, 0.001, 0.01, 0.1, 1, 10, 100, 1000, 10000]\n",
    "\n",
    "tr_list = []\n",
    "for i in c:\n",
    "    lr = LogisticRegression(penalty='l2', C=i, n_jobs=-1)\n",
    "    lr.fit(X_tr_tf_idf, y_tr)\n",
    "    pred = lr.predict(X_tr_tf_idf)\n",
    "    auc = roc_auc_score(y_tr, pred)\n",
    "    tr_list.append(auc.mean())\n",
    "    print('\\nTrain auc for C = %f is %f%%' % (i, auc))\n",
    "\n",
    "print('*'*100)\n",
    "\n",
    "cv_list = []\n",
    "for j in c:\n",
    "    lr = LogisticRegression(penalty='l2', C=j, n_jobs=-1)\n",
    "    lr.fit(X_tr_tf_idf, y_tr)\n",
    "    pred = lr.predict(X_cv_tf_idf)\n",
    "    auc = roc_auc_score(y_cv, pred)\n",
    "    cv_list.append(auc.mean())\n",
    "    print('\\nCV auc for C = %f is %f%%' % (j, auc))"
   ]
  },
  {
   "cell_type": "code",
   "execution_count": 100,
   "metadata": {},
   "outputs": [
    {
     "data": {
      "image/png": "[encoded data removed]",
      "text/plain": [
       "<Figure size 432x288 with 1 Axes>"
      ]
     },
     "metadata": {},
     "output_type": "display_data"
    }
   ],
   "source": [
    "sns.set_style(\"darkgrid\")\n",
    "plt.plot(c, tr_list, label= 'Train AUC')\n",
    "plt.plot(c,cv_list, label= 'CV AUC')\n",
    "plt.xlabel(\"C values\")\n",
    "plt.ylabel(\"AUC\")\n",
    "plt.title(\"AUC for different C values\")\n",
    "plt.legend()\n",
    "plt.show()"
   ]
  },
  {
   "cell_type": "markdown",
   "metadata": {},
   "source": [
    "### Observation:\n",
    "From the above table and data we can observe that the optimalvalue of C is 100 with CV AUC score of 0.783"
   ]
  },
  {
   "cell_type": "code",
   "execution_count": 102,
   "metadata": {},
   "outputs": [
    {
     "name": "stdout",
     "output_type": "stream",
     "text": [
      "\n",
      "****Test auc for C = 10 is 0.781207%\n"
     ]
    }
   ],
   "source": [
    "lr = LogisticRegression(penalty='l2', C=100, n_jobs=-1)\n",
    "lr.fit(X_tr_tf_idf, y_tr)\n",
    "pred = lr.predict(X_test_tf_idf)\n",
    "auc = roc_auc_score(y_test, pred)\n",
    "print('\\n****Test auc for C = 10 is %f%%' % (auc))"
   ]
  },
  {
   "cell_type": "code",
   "execution_count": 103,
   "metadata": {},
   "outputs": [
    {
     "data": {
      "image/png": "[encoded data removed]",
      "text/plain": [
       "<Figure size 432x288 with 1 Axes>"
      ]
     },
     "metadata": {},
     "output_type": "display_data"
    }
   ],
   "source": [
    "lw = 2\n",
    "pred_proba = lr.predict_proba(X_test_tf_idf)[::,1]\n",
    "fpr, tpr, _ = metrics.roc_curve(y_test,  pred_proba)\n",
    "auc = metrics.roc_auc_score(y_test, pred_proba)\n",
    "plt.plot(fpr,tpr,label=\"roc curve, auc=\"+str(auc))\n",
    "plt.plot([0, 1], [0, 1], color='red', lw=lw, linestyle='--')\n",
    "plt.xlabel(\"false positive rate\")\n",
    "plt.ylabel(\"true positive rate\")\n",
    "plt.legend(loc=4)\n",
    "plt.show()"
   ]
  },
  {
   "cell_type": "markdown",
   "metadata": {},
   "source": [
    "### Obeservation:\n",
    "The ROC curve of TF-IDF with L2 regularization is above the random line and seperated by a good distance"
   ]
  },
  {
   "cell_type": "code",
   "execution_count": 105,
   "metadata": {},
   "outputs": [
    {
     "data": {
      "image/png": "[encoded data removed]",
      "text/plain": [
       "<Figure size 432x288 with 2 Axes>"
      ]
     },
     "metadata": {},
     "output_type": "display_data"
    }
   ],
   "source": [
    "conf_matrix = confusion_matrix(y_test, pred)\n",
    "class_label = ['negative', 'positive']\n",
    "df_conf_matrix = pd.DataFrame(\n",
    "    conf_matrix, index=class_label, columns=class_label)\n",
    "sns.heatmap(df_conf_matrix, annot=True, fmt='d')\n",
    "plt.title(\"Confusion Matrix\")\n",
    "plt.xlabel(\"Predicted\")\n",
    "plt.ylabel(\"Actual\")\n",
    "plt.show()"
   ]
  },
  {
   "cell_type": "markdown",
   "metadata": {},
   "source": [
    "### Observation:\n",
    "True Negative = 2216, True Positive = 25223, False Negative = 1112, False Positive = 1449"
   ]
  },
  {
   "cell_type": "markdown",
   "metadata": {},
   "source": [
    "### [5.2.3] Feature Importance on TFIDF,<font color='red'> SET 2</font>"
   ]
  },
  {
   "cell_type": "code",
   "execution_count": 121,
   "metadata": {},
   "outputs": [
    {
     "name": "stdout",
     "output_type": "stream",
     "text": [
      "\t\t\tPositive\t\t\t\tNegative\n",
      "________________________________________________________________________________________________\n",
      "\t-21.6668\tgreat          \t\t\t\t17.9301\tworst          \n",
      "\t-19.4400\tbeat           \t\t\t\t16.9532\tdecept         \n",
      "\t-15.4088\tdelici         \t\t\t\t16.5997\tdeceiv         \n",
      "\t-15.3952\tbest           \t\t\t\t16.1349\tcolada         \n",
      "\t-15.2241\taliv           \t\t\t\t15.7814\tfragment       \n",
      "\t-15.0372\tdanish         \t\t\t\t15.1607\tmargin         \n",
      "\t-14.0747\tmmmmm          \t\t\t\t14.9261\tangri          \n",
      "\t-14.0593\tsolv           \t\t\t\t14.8825\tunaccept       \n",
      "\t-13.6011\tendless        \t\t\t\t14.8695\tsurf           \n",
      "\t-13.4215\tamaz           \t\t\t\t14.6899\tunsatisfi      \n"
     ]
    }
   ],
   "source": [
    "show_most_informative_features(tf_idf_vect,lr)"
   ]
  },
  {
   "cell_type": "markdown",
   "metadata": {},
   "source": [
    "## [5.3] Logistic Regression on AVG W2V,<font color='red'> SET 3</font>"
   ]
  },
  {
   "cell_type": "markdown",
   "metadata": {},
   "source": [
    "### [5.3.1] Applying Logistic Regression with L1 regularization on AVG W2V<font color='red'> SET 3</font>"
   ]
  },
  {
   "cell_type": "code",
   "execution_count": 3,
   "metadata": {},
   "outputs": [],
   "source": [
    "# Please write all the code with proper documentation"
   ]
  },
  {
   "cell_type": "markdown",
   "metadata": {},
   "source": [
    "### [5.3.2] Applying Logistic Regression with L2 regularization on AVG W2V,<font color='red'> SET 3</font>"
   ]
  },
  {
   "cell_type": "code",
   "execution_count": 128,
   "metadata": {},
   "outputs": [
    {
     "name": "stdout",
     "output_type": "stream",
     "text": [
      "\n",
      "Train auc for C = 0.000010 is 0.500000%\n",
      "\n",
      "Train auc for C = 0.000100 is 0.500000%\n",
      "\n",
      "Train auc for C = 0.001000 is 0.533362%\n",
      "\n",
      "Train auc for C = 0.010000 is 0.646439%\n",
      "\n",
      "Train auc for C = 0.100000 is 0.674826%\n",
      "\n",
      "Train auc for C = 1.000000 is 0.679452%\n",
      "\n",
      "Train auc for C = 10.000000 is 0.679524%\n",
      "\n",
      "Train auc for C = 100.000000 is 0.679607%\n",
      "\n",
      "Train auc for C = 1000.000000 is 0.679595%\n",
      "\n",
      "Train auc for C = 10000.000000 is 0.679595%\n",
      "****************************************************************************************************\n",
      "\n",
      "CV auc for C = 0.000010 is 0.500000%\n",
      "\n",
      "CV auc for C = 0.000100 is 0.500000%\n",
      "\n",
      "CV auc for C = 0.001000 is 0.502643%\n",
      "\n",
      "CV auc for C = 0.010000 is 0.519242%\n",
      "\n",
      "CV auc for C = 0.100000 is 0.529599%\n",
      "\n",
      "CV auc for C = 1.000000 is 0.521442%\n",
      "\n",
      "CV auc for C = 10.000000 is 0.520464%\n",
      "\n",
      "CV auc for C = 100.000000 is 0.520297%\n",
      "\n",
      "CV auc for C = 1000.000000 is 0.520297%\n",
      "\n",
      "CV auc for C = 10000.000000 is 0.520297%\n"
     ]
    }
   ],
   "source": [
    "c = [0.00001, 0.0001, 0.001, 0.01, 0.1, 1, 10, 100, 1000, 10000]\n",
    "\n",
    "tr_list = []\n",
    "for i in c:\n",
    "    lr = LogisticRegression(penalty='l2', C=i, n_jobs=-1)\n",
    "    lr.fit(train_sent_vectors, y_tr)\n",
    "    pred = lr.predict(train_sent_vectors)\n",
    "    auc = roc_auc_score(y_tr, pred)\n",
    "    tr_list.append(auc.mean())\n",
    "    print('\\nTrain auc for C = %f is %f%%' % (i, auc))\n",
    "   \n",
    "print('*'*100)\n",
    "\n",
    "cv_list = []\n",
    "for j in c:\n",
    "    lr = LogisticRegression(penalty='l2', C=j, n_jobs=-1)\n",
    "    lr.fit(train_sent_vectors, y_tr)\n",
    "    pred = lr.predict(cv_sent_vectors)\n",
    "    auc = roc_auc_score(y_cv, pred)\n",
    "    cv_list.append(auc.mean())\n",
    "    print('\\nCV auc for C = %f is %f%%' % (j, auc))"
   ]
  },
  {
   "cell_type": "code",
   "execution_count": 129,
   "metadata": {},
   "outputs": [
    {
     "data": {
      "image/png": "[encoded data removed]",
      "text/plain": [
       "<Figure size 432x288 with 1 Axes>"
      ]
     },
     "metadata": {},
     "output_type": "display_data"
    }
   ],
   "source": [
    "sns.set_style(\"darkgrid\")\n",
    "plt.plot(c, tr_list, label= 'Train AUC')\n",
    "plt.plot(c,cv_list, label= 'CV AUC')\n",
    "plt.xlabel(\"C values\")\n",
    "plt.ylabel(\"AUC\")\n",
    "plt.title(\"AUC for different C values\")\n",
    "plt.legend()\n",
    "plt.show()"
   ]
  },
  {
   "cell_type": "markdown",
   "metadata": {},
   "source": [
    "### Observation:\n",
    "From the above table and data we can observe that the optimalvalue of C is 0.1 with CV AUC score of 0.529"
   ]
  },
  {
   "cell_type": "code",
   "execution_count": 130,
   "metadata": {},
   "outputs": [
    {
     "name": "stdout",
     "output_type": "stream",
     "text": [
      "\n",
      "****Test auc for C = 0.1 is 0.577350%\n"
     ]
    }
   ],
   "source": [
    "lr = LogisticRegression(penalty='l2', C=0.1, n_jobs=-1)\n",
    "lr.fit(train_sent_vectors, y_tr)\n",
    "pred = lr.predict(test_sent_vectors)\n",
    "auc = roc_auc_score(y_test, pred)\n",
    "print('\\n****Test auc for C = 0.1 is %f%%' % (auc))"
   ]
  },
  {
   "cell_type": "code",
   "execution_count": 131,
   "metadata": {},
   "outputs": [
    {
     "data": {
      "image/png": "[encoded data removed]",
      "text/plain": [
       "<Figure size 432x288 with 1 Axes>"
      ]
     },
     "metadata": {},
     "output_type": "display_data"
    }
   ],
   "source": [
    "lw = 2\n",
    "pred_proba = lr.predict_proba(test_sent_vectors)[::,1]\n",
    "fpr, tpr, _ = metrics.roc_curve(y_test,  pred_proba)\n",
    "auc = metrics.roc_auc_score(y_test, pred_proba)\n",
    "plt.plot(fpr,tpr,label=\"roc curve, auc=\"+str(auc))\n",
    "plt.plot([0, 1], [0, 1], color='red', lw=lw, linestyle='--')\n",
    "plt.xlabel(\"false positive rate\")\n",
    "plt.ylabel(\"true positive rate\")\n",
    "plt.legend(loc=4)\n",
    "plt.show()"
   ]
  },
  {
   "cell_type": "markdown",
   "metadata": {},
   "source": [
    "### Obeservation:\n",
    "The ROC curve of Avg W2V is above the random line and seperated by a good margin"
   ]
  },
  {
   "cell_type": "code",
   "execution_count": 132,
   "metadata": {},
   "outputs": [
    {
     "data": {
      "image/png": "[encoded data removed]",
      "text/plain": [
       "<Figure size 432x288 with 2 Axes>"
      ]
     },
     "metadata": {},
     "output_type": "display_data"
    }
   ],
   "source": [
    "conf_matrix = confusion_matrix(y_test, pred)\n",
    "class_label = ['negative', 'positive']\n",
    "df_conf_matrix = pd.DataFrame(\n",
    "    conf_matrix, index=class_label, columns=class_label)\n",
    "sns.heatmap(df_conf_matrix, annot=True, fmt='d')\n",
    "plt.title(\"Confusion Matrix\")\n",
    "plt.xlabel(\"Predicted\")\n",
    "plt.ylabel(\"Actual\")\n",
    "plt.show()"
   ]
  },
  {
   "cell_type": "markdown",
   "metadata": {},
   "source": [
    "### Observation:\n",
    "True Negative = 636, True Positive = 25839, False Negative = 496, False Positive = 3029"
   ]
  },
  {
   "cell_type": "markdown",
   "metadata": {},
   "source": [
    "## [5.4] Logistic Regression on TFIDF W2V,<font color='red'> SET 4</font>"
   ]
  },
  {
   "cell_type": "markdown",
   "metadata": {},
   "source": [
    "### [5.4.1] Applying Logistic Regression with L1 regularization on TFIDF W2V,<font color='red'> SET 4</font>"
   ]
  },
  {
   "cell_type": "code",
   "execution_count": 3,
   "metadata": {},
   "outputs": [],
   "source": [
    "# Please write all the code with proper documentation"
   ]
  },
  {
   "cell_type": "markdown",
   "metadata": {},
   "source": [
    "### [5.4.2] Applying Logistic Regression with L2 regularization on TFIDF W2V,<font color='red'> SET 4</font>"
   ]
  },
  {
   "cell_type": "code",
   "execution_count": 136,
   "metadata": {},
   "outputs": [
    {
     "name": "stdout",
     "output_type": "stream",
     "text": [
      "\n",
      "Train auc for C = 0.000010 is 0.500000%\n",
      "\n",
      "Train auc for C = 0.000100 is 0.500000%\n",
      "\n",
      "Train auc for C = 0.001000 is 0.500000%\n",
      "\n",
      "Train auc for C = 0.010000 is 0.500000%\n",
      "\n",
      "Train auc for C = 0.100000 is 0.500000%\n",
      "\n",
      "Train auc for C = 1.000000 is 0.500000%\n",
      "\n",
      "Train auc for C = 10.000000 is 0.500000%\n",
      "\n",
      "Train auc for C = 100.000000 is 0.500000%\n",
      "\n",
      "Train auc for C = 1000.000000 is 0.500000%\n",
      "\n",
      "Train auc for C = 10000.000000 is 0.500000%\n",
      "****************************************************************************************************\n",
      "\n",
      "CV auc for C = 0.000010 is 0.500000%\n",
      "\n",
      "CV auc for C = 0.000100 is 0.500000%\n",
      "\n",
      "CV auc for C = 0.001000 is 0.500000%\n",
      "\n",
      "CV auc for C = 0.010000 is 0.500000%\n",
      "\n",
      "CV auc for C = 0.100000 is 0.500000%\n",
      "\n",
      "CV auc for C = 1.000000 is 0.500000%\n",
      "\n",
      "CV auc for C = 10.000000 is 0.500000%\n",
      "\n",
      "CV auc for C = 100.000000 is 0.500000%\n",
      "\n",
      "CV auc for C = 1000.000000 is 0.500000%\n",
      "\n",
      "CV auc for C = 10000.000000 is 0.500000%\n"
     ]
    }
   ],
   "source": [
    "c = [0.00001, 0.0001, 0.001, 0.01, 0.1, 1, 10, 100, 1000, 10000]\n",
    "\n",
    "tr_list = []\n",
    "for i in c:\n",
    "    lr = LogisticRegression(penalty='l2', C=i, n_jobs=-1)\n",
    "    lr.fit(train_vectors, y_tr)\n",
    "    pred = lr.predict(train_vectors)\n",
    "    auc = roc_auc_score(y_tr, pred)\n",
    "    tr_list.append(auc.mean())\n",
    "    print('\\nTrain auc for C = %f is %f%%' % (i, auc))\n",
    "   \n",
    "print('*'*100)\n",
    "\n",
    "cv_list = []\n",
    "for j in c:\n",
    "    lr = LogisticRegression(penalty='l2', C=j, n_jobs=-1)\n",
    "    lr.fit(train_vectors, y_tr)\n",
    "    pred = lr.predict(cv_vectors)\n",
    "    auc = roc_auc_score(y_cv, pred)\n",
    "    cv_list.append(auc.mean())\n",
    "    print('\\nCV auc for C = %f is %f%%' % (j, auc))"
   ]
  },
  {
   "cell_type": "code",
   "execution_count": 137,
   "metadata": {},
   "outputs": [
    {
     "data": {
      "image/png": "[encoded data removed]",
      "text/plain": [
       "<Figure size 432x288 with 1 Axes>"
      ]
     },
     "metadata": {},
     "output_type": "display_data"
    }
   ],
   "source": [
    "sns.set_style(\"darkgrid\")\n",
    "plt.plot(c, tr_list, label= 'Train AUC')\n",
    "plt.plot(c,cv_list, label= 'CV AUC')\n",
    "plt.xlabel(\"C values\")\n",
    "plt.ylabel(\"AUC\")\n",
    "plt.title(\"AUC for different C values\")\n",
    "plt.legend()\n",
    "plt.show()"
   ]
  },
  {
   "cell_type": "markdown",
   "metadata": {},
   "source": [
    "## Observation:\n",
    "\n",
    "The AUC scores for all the values of C are same i.e., 0.50. Hence the optimal C = 0.000010"
   ]
  },
  {
   "cell_type": "code",
   "execution_count": 138,
   "metadata": {},
   "outputs": [
    {
     "name": "stdout",
     "output_type": "stream",
     "text": [
      "\n",
      "****Test auc for C = 0.000010 is 0.500000%\n"
     ]
    }
   ],
   "source": [
    "lr = LogisticRegression(penalty='l2', C=0.000010, n_jobs=-1)\n",
    "lr.fit(train_sent_vectors, y_tr)\n",
    "pred = lr.predict(test_sent_vectors)\n",
    "auc = roc_auc_score(y_test, pred)\n",
    "print('\\n****Test auc for C = 0.000010 is %f%%' % (auc))"
   ]
  },
  {
   "cell_type": "code",
   "execution_count": 139,
   "metadata": {},
   "outputs": [
    {
     "data": {
      "image/png": "[encoded data removed]",
      "text/plain": [
       "<Figure size 432x288 with 1 Axes>"
      ]
     },
     "metadata": {},
     "output_type": "display_data"
    }
   ],
   "source": [
    "lw = 2\n",
    "pred_proba = lr.predict_proba(test_vectors)[::,1]\n",
    "fpr, tpr, _ = metrics.roc_curve(y_test,  pred_proba)\n",
    "auc = metrics.roc_auc_score(y_test, pred_proba)\n",
    "plt.plot(fpr,tpr,label=\"roc curve, auc=\"+str(auc))\n",
    "plt.plot([0, 1], [0, 1], color='red', lw=lw, linestyle='--')\n",
    "plt.xlabel(\"false positive rate\")\n",
    "plt.ylabel(\"true positive rate\")\n",
    "plt.legend(loc=4)\n",
    "plt.show()"
   ]
  },
  {
   "cell_type": "markdown",
   "metadata": {},
   "source": [
    "### Obeservation:\n",
    "The ROC curve of TF-IDF W2V is on the random line. Hence, this is a random model"
   ]
  },
  {
   "cell_type": "code",
   "execution_count": 140,
   "metadata": {},
   "outputs": [
    {
     "data": {
      "image/png": "[encoded data removed]",
      "text/plain": [
       "<Figure size 432x288 with 2 Axes>"
      ]
     },
     "metadata": {},
     "output_type": "display_data"
    }
   ],
   "source": [
    "conf_matrix = confusion_matrix(y_test, pred)\n",
    "class_label = ['negative', 'positive']\n",
    "df_conf_matrix = pd.DataFrame(\n",
    "    conf_matrix, index=class_label, columns=class_label)\n",
    "sns.heatmap(df_conf_matrix, annot=True, fmt='d')\n",
    "plt.title(\"Confusion Matrix\")\n",
    "plt.xlabel(\"Predicted\")\n",
    "plt.ylabel(\"Actual\")\n",
    "plt.show()"
   ]
  },
  {
   "cell_type": "markdown",
   "metadata": {},
   "source": [
    "# [6] Conclusions"
   ]
  },
  {
   "cell_type": "code",
   "execution_count": 4,
   "metadata": {},
   "outputs": [],
   "source": [
    "# Please compare all your models using Prettytable library"
   ]
  }
 ],
 "metadata": {
  "kernelspec": {
   "display_name": "Python 3",
   "language": "python",
   "name": "python3"
  },
  "language_info": {
   "codemirror_mode": {
    "name": "ipython",
    "version": 3
   },
   "file_extension": ".py",
   "mimetype": "text/x-python",
   "name": "python",
   "nbconvert_exporter": "python",
   "pygments_lexer": "ipython3",
   "version": "3.6.5"
  }
 },
 "nbformat": 4,
 "nbformat_minor": 2
}
